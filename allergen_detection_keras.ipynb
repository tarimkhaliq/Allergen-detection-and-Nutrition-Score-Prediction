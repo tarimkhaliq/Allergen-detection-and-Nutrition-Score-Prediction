{
  "nbformat": 4,
  "nbformat_minor": 0,
  "metadata": {
    "colab": {
      "provenance": []
    },
    "kernelspec": {
      "name": "python3",
      "display_name": "Python 3"
    },
    "language_info": {
      "name": "python"
    }
  },
  "cells": [
    {
      "cell_type": "code",
      "source": [
        "!pip install keras-ocr"
      ],
      "metadata": {
        "colab": {
          "base_uri": "https://localhost:8080/"
        },
        "id": "A4s2cUtCbZKY",
        "outputId": "617a15ad-260e-4fac-b415-bb4d93e11db1"
      },
      "execution_count": null,
      "outputs": [
        {
          "output_type": "stream",
          "name": "stdout",
          "text": [
            "Looking in indexes: https://pypi.org/simple, https://us-python.pkg.dev/colab-wheels/public/simple/\n",
            "Collecting keras-ocr\n",
            "  Downloading keras_ocr-0.9.1-py3-none-any.whl (42 kB)\n",
            "\u001b[K     |████████████████████████████████| 42 kB 1.1 MB/s \n",
            "\u001b[?25hCollecting fonttools\n",
            "  Downloading fonttools-4.37.1-py3-none-any.whl (957 kB)\n",
            "\u001b[K     |████████████████████████████████| 957 kB 11.9 MB/s \n",
            "\u001b[?25hRequirement already satisfied: imgaug in /usr/local/lib/python3.7/dist-packages (from keras-ocr) (0.4.0)\n",
            "Collecting pyclipper\n",
            "  Downloading pyclipper-1.3.0.post3-cp37-cp37m-manylinux_2_5_x86_64.manylinux1_x86_64.whl (604 kB)\n",
            "\u001b[K     |████████████████████████████████| 604 kB 42.2 MB/s \n",
            "\u001b[?25hRequirement already satisfied: editdistance in /usr/local/lib/python3.7/dist-packages (from keras-ocr) (0.5.3)\n",
            "Collecting efficientnet==1.0.0\n",
            "  Downloading efficientnet-1.0.0-py3-none-any.whl (17 kB)\n",
            "Collecting essential_generators\n",
            "  Downloading essential_generators-1.0-py3-none-any.whl (9.5 MB)\n",
            "\u001b[K     |████████████████████████████████| 9.5 MB 27.6 MB/s \n",
            "\u001b[?25hRequirement already satisfied: tqdm in /usr/local/lib/python3.7/dist-packages (from keras-ocr) (4.64.0)\n",
            "Collecting validators\n",
            "  Downloading validators-0.20.0.tar.gz (30 kB)\n",
            "Requirement already satisfied: shapely in /usr/local/lib/python3.7/dist-packages (from keras-ocr) (1.8.4)\n",
            "Collecting keras-applications<=1.0.8,>=1.0.7\n",
            "  Downloading Keras_Applications-1.0.8-py3-none-any.whl (50 kB)\n",
            "\u001b[K     |████████████████████████████████| 50 kB 8.5 MB/s \n",
            "\u001b[?25hRequirement already satisfied: scikit-image in /usr/local/lib/python3.7/dist-packages (from efficientnet==1.0.0->keras-ocr) (0.18.3)\n",
            "Requirement already satisfied: h5py in /usr/local/lib/python3.7/dist-packages (from keras-applications<=1.0.8,>=1.0.7->efficientnet==1.0.0->keras-ocr) (3.1.0)\n",
            "Requirement already satisfied: numpy>=1.9.1 in /usr/local/lib/python3.7/dist-packages (from keras-applications<=1.0.8,>=1.0.7->efficientnet==1.0.0->keras-ocr) (1.21.6)\n",
            "Requirement already satisfied: cached-property in /usr/local/lib/python3.7/dist-packages (from h5py->keras-applications<=1.0.8,>=1.0.7->efficientnet==1.0.0->keras-ocr) (1.5.2)\n",
            "Requirement already satisfied: scipy in /usr/local/lib/python3.7/dist-packages (from imgaug->keras-ocr) (1.7.3)\n",
            "Requirement already satisfied: Pillow in /usr/local/lib/python3.7/dist-packages (from imgaug->keras-ocr) (7.1.2)\n",
            "Requirement already satisfied: imageio in /usr/local/lib/python3.7/dist-packages (from imgaug->keras-ocr) (2.9.0)\n",
            "Requirement already satisfied: matplotlib in /usr/local/lib/python3.7/dist-packages (from imgaug->keras-ocr) (3.2.2)\n",
            "Requirement already satisfied: opencv-python in /usr/local/lib/python3.7/dist-packages (from imgaug->keras-ocr) (4.6.0.66)\n",
            "Requirement already satisfied: six in /usr/local/lib/python3.7/dist-packages (from imgaug->keras-ocr) (1.15.0)\n",
            "Requirement already satisfied: networkx>=2.0 in /usr/local/lib/python3.7/dist-packages (from scikit-image->efficientnet==1.0.0->keras-ocr) (2.6.3)\n",
            "Requirement already satisfied: tifffile>=2019.7.26 in /usr/local/lib/python3.7/dist-packages (from scikit-image->efficientnet==1.0.0->keras-ocr) (2021.11.2)\n",
            "Requirement already satisfied: PyWavelets>=1.1.1 in /usr/local/lib/python3.7/dist-packages (from scikit-image->efficientnet==1.0.0->keras-ocr) (1.3.0)\n",
            "Requirement already satisfied: python-dateutil>=2.1 in /usr/local/lib/python3.7/dist-packages (from matplotlib->imgaug->keras-ocr) (2.8.2)\n",
            "Requirement already satisfied: cycler>=0.10 in /usr/local/lib/python3.7/dist-packages (from matplotlib->imgaug->keras-ocr) (0.11.0)\n",
            "Requirement already satisfied: kiwisolver>=1.0.1 in /usr/local/lib/python3.7/dist-packages (from matplotlib->imgaug->keras-ocr) (1.4.4)\n",
            "Requirement already satisfied: pyparsing!=2.0.4,!=2.1.2,!=2.1.6,>=2.0.1 in /usr/local/lib/python3.7/dist-packages (from matplotlib->imgaug->keras-ocr) (3.0.9)\n",
            "Requirement already satisfied: typing-extensions in /usr/local/lib/python3.7/dist-packages (from kiwisolver>=1.0.1->matplotlib->imgaug->keras-ocr) (4.1.1)\n",
            "Requirement already satisfied: decorator>=3.4.0 in /usr/local/lib/python3.7/dist-packages (from validators->keras-ocr) (4.4.2)\n",
            "Building wheels for collected packages: validators\n",
            "  Building wheel for validators (setup.py) ... \u001b[?25l\u001b[?25hdone\n",
            "  Created wheel for validators: filename=validators-0.20.0-py3-none-any.whl size=19582 sha256=71c6533312a6b8edacb40d10c217ec6140c1d733fb238514d6c9940055c66807\n",
            "  Stored in directory: /root/.cache/pip/wheels/5f/55/ab/36a76989f7f88d9ca7b1f68da6d94252bb6a8d6ad4f18e04e9\n",
            "Successfully built validators\n",
            "Installing collected packages: keras-applications, validators, pyclipper, fonttools, essential-generators, efficientnet, keras-ocr\n",
            "Successfully installed efficientnet-1.0.0 essential-generators-1.0 fonttools-4.37.1 keras-applications-1.0.8 keras-ocr-0.9.1 pyclipper-1.3.0.post3 validators-0.20.0\n"
          ]
        }
      ]
    },
    {
      "cell_type": "code",
      "source": [
        "import cv2\n",
        "import numpy as np\n",
        "import pandas as pd\n",
        "import re\n",
        "import spacy\n",
        "import en_core_web_sm\n",
        "from sklearn.metrics.pairwise import cosine_similarity\n",
        "import nltk\n",
        "nltk.download('punkt')\n",
        "from nltk.tokenize import word_tokenize\n",
        "import matplotlib.pyplot as plt\n",
        "import keras_ocr\n",
        "pipeline = keras_ocr.pipeline.Pipeline()"
      ],
      "metadata": {
        "id": "61lv_NFT7l0G",
        "colab": {
          "base_uri": "https://localhost:8080/"
        },
        "outputId": "3b1a1471-adf4-4efe-c3cb-f79ae9c75a28"
      },
      "execution_count": null,
      "outputs": [
        {
          "output_type": "stream",
          "name": "stderr",
          "text": [
            "[nltk_data] Downloading package punkt to /root/nltk_data...\n",
            "[nltk_data]   Unzipping tokenizers/punkt.zip.\n"
          ]
        },
        {
          "output_type": "stream",
          "name": "stdout",
          "text": [
            "Looking for /root/.keras-ocr/craft_mlt_25k.h5\n",
            "Downloading /root/.keras-ocr/craft_mlt_25k.h5\n",
            "Looking for /root/.keras-ocr/crnn_kurapan.h5\n",
            "Downloading /root/.keras-ocr/crnn_kurapan.h5\n"
          ]
        }
      ]
    },
    {
      "cell_type": "code",
      "source": [
        "!gdown 1JR3Sgz2-AyfIDT7jYRXL8XMrMom57DAi\n",
        "!gdown 13du4J0NVPa6NWcehJITx1jcfYsINdBE5"
      ],
      "metadata": {
        "colab": {
          "base_uri": "https://localhost:8080/"
        },
        "id": "y5pHS3wV7yVN",
        "outputId": "589bd920-2ac0-4507-b4ef-d170b3ccd9ba"
      },
      "execution_count": null,
      "outputs": [
        {
          "output_type": "stream",
          "name": "stdout",
          "text": [
            "Downloading...\n",
            "From: https://drive.google.com/uc?id=1JR3Sgz2-AyfIDT7jYRXL8XMrMom57DAi\n",
            "To: /content/english_dataset.csv\n",
            "100% 643k/643k [00:00<00:00, 126MB/s]\n",
            "Downloading...\n",
            "From: https://drive.google.com/uc?id=13du4J0NVPa6NWcehJITx1jcfYsINdBE5\n",
            "To: /content/Allergen.csv\n",
            "100% 2.05k/2.05k [00:00<00:00, 3.31MB/s]\n"
          ]
        }
      ]
    },
    {
      "cell_type": "code",
      "source": [
        "df = pd.read_csv('english_dataset.csv')\n",
        "aller_list = pd.read_csv('Allergen.csv') "
      ],
      "metadata": {
        "id": "pazt6gMi8T5R"
      },
      "execution_count": null,
      "outputs": []
    },
    {
      "cell_type": "code",
      "source": [
        "df = df.drop(414)"
      ],
      "metadata": {
        "id": "p5wrC-bLBnp8"
      },
      "execution_count": null,
      "outputs": []
    },
    {
      "cell_type": "code",
      "source": [
        "df.head()"
      ],
      "metadata": {
        "colab": {
          "base_uri": "https://localhost:8080/",
          "height": 426
        },
        "id": "_9LV2WW_8gom",
        "outputId": "65c84033-5b1b-45d1-db47-43886e4af9b0"
      },
      "execution_count": null,
      "outputs": [
        {
          "output_type": "execute_result",
          "data": {
            "text/plain": [
              "                                    ingredients_text  \\\n",
              "0       water, _almonds_* 5%, agave syrup*, sea salt   \n",
              "1  Wheat flour, sugar, almonds 18%, eggs, egg Whi...   \n",
              "2  _WHEAT_ flour, water, tomato pulp, mozzarella ...   \n",
              "3                            LATTE_ INTERO BIOLOGICO   \n",
              "4  Pistachio 45%, sugar, milk powder, extra virgi...   \n",
              "\n",
              "                                       allergens  \\\n",
              "0                                        en:nuts   \n",
              "1  en:eggs,en:gluten,en:milk,en:nuts,en:soybeans   \n",
              "2                              en:gluten,en:milk   \n",
              "3                                        en:milk   \n",
              "4                    en:milk,en:nuts,en:soybeans   \n",
              "\n",
              "                               image_ingredients_url  \\\n",
              "0  https://images.openfoodfacts.org/images/produc...   \n",
              "1  https://images.openfoodfacts.org/images/produc...   \n",
              "2  https://images.openfoodfacts.org/images/produc...   \n",
              "3  https://images.openfoodfacts.org/images/produc...   \n",
              "4  https://images.openfoodfacts.org/images/produc...   \n",
              "\n",
              "                                 image_nutrition_url  is_allergen  \\\n",
              "0  https://images.openfoodfacts.org/images/produc...         True   \n",
              "1  https://images.openfoodfacts.org/images/produc...         True   \n",
              "2  https://images.openfoodfacts.org/images/produc...         True   \n",
              "3  https://images.openfoodfacts.org/images/produc...         True   \n",
              "4  https://images.openfoodfacts.org/images/produc...         True   \n",
              "\n",
              "  ingredeint_language  \n",
              "0                  en  \n",
              "1                  en  \n",
              "2                  en  \n",
              "3                  en  \n",
              "4                  en  "
            ],
            "text/html": [
              "\n",
              "  <div id=\"df-cb63352b-86d9-432e-9431-bd7939d4255c\">\n",
              "    <div class=\"colab-df-container\">\n",
              "      <div>\n",
              "<style scoped>\n",
              "    .dataframe tbody tr th:only-of-type {\n",
              "        vertical-align: middle;\n",
              "    }\n",
              "\n",
              "    .dataframe tbody tr th {\n",
              "        vertical-align: top;\n",
              "    }\n",
              "\n",
              "    .dataframe thead th {\n",
              "        text-align: right;\n",
              "    }\n",
              "</style>\n",
              "<table border=\"1\" class=\"dataframe\">\n",
              "  <thead>\n",
              "    <tr style=\"text-align: right;\">\n",
              "      <th></th>\n",
              "      <th>ingredients_text</th>\n",
              "      <th>allergens</th>\n",
              "      <th>image_ingredients_url</th>\n",
              "      <th>image_nutrition_url</th>\n",
              "      <th>is_allergen</th>\n",
              "      <th>ingredeint_language</th>\n",
              "    </tr>\n",
              "  </thead>\n",
              "  <tbody>\n",
              "    <tr>\n",
              "      <th>0</th>\n",
              "      <td>water, _almonds_* 5%, agave syrup*, sea salt</td>\n",
              "      <td>en:nuts</td>\n",
              "      <td>https://images.openfoodfacts.org/images/produc...</td>\n",
              "      <td>https://images.openfoodfacts.org/images/produc...</td>\n",
              "      <td>True</td>\n",
              "      <td>en</td>\n",
              "    </tr>\n",
              "    <tr>\n",
              "      <th>1</th>\n",
              "      <td>Wheat flour, sugar, almonds 18%, eggs, egg Whi...</td>\n",
              "      <td>en:eggs,en:gluten,en:milk,en:nuts,en:soybeans</td>\n",
              "      <td>https://images.openfoodfacts.org/images/produc...</td>\n",
              "      <td>https://images.openfoodfacts.org/images/produc...</td>\n",
              "      <td>True</td>\n",
              "      <td>en</td>\n",
              "    </tr>\n",
              "    <tr>\n",
              "      <th>2</th>\n",
              "      <td>_WHEAT_ flour, water, tomato pulp, mozzarella ...</td>\n",
              "      <td>en:gluten,en:milk</td>\n",
              "      <td>https://images.openfoodfacts.org/images/produc...</td>\n",
              "      <td>https://images.openfoodfacts.org/images/produc...</td>\n",
              "      <td>True</td>\n",
              "      <td>en</td>\n",
              "    </tr>\n",
              "    <tr>\n",
              "      <th>3</th>\n",
              "      <td>LATTE_ INTERO BIOLOGICO</td>\n",
              "      <td>en:milk</td>\n",
              "      <td>https://images.openfoodfacts.org/images/produc...</td>\n",
              "      <td>https://images.openfoodfacts.org/images/produc...</td>\n",
              "      <td>True</td>\n",
              "      <td>en</td>\n",
              "    </tr>\n",
              "    <tr>\n",
              "      <th>4</th>\n",
              "      <td>Pistachio 45%, sugar, milk powder, extra virgi...</td>\n",
              "      <td>en:milk,en:nuts,en:soybeans</td>\n",
              "      <td>https://images.openfoodfacts.org/images/produc...</td>\n",
              "      <td>https://images.openfoodfacts.org/images/produc...</td>\n",
              "      <td>True</td>\n",
              "      <td>en</td>\n",
              "    </tr>\n",
              "  </tbody>\n",
              "</table>\n",
              "</div>\n",
              "      <button class=\"colab-df-convert\" onclick=\"convertToInteractive('df-cb63352b-86d9-432e-9431-bd7939d4255c')\"\n",
              "              title=\"Convert this dataframe to an interactive table.\"\n",
              "              style=\"display:none;\">\n",
              "        \n",
              "  <svg xmlns=\"http://www.w3.org/2000/svg\" height=\"24px\"viewBox=\"0 0 24 24\"\n",
              "       width=\"24px\">\n",
              "    <path d=\"M0 0h24v24H0V0z\" fill=\"none\"/>\n",
              "    <path d=\"M18.56 5.44l.94 2.06.94-2.06 2.06-.94-2.06-.94-.94-2.06-.94 2.06-2.06.94zm-11 1L8.5 8.5l.94-2.06 2.06-.94-2.06-.94L8.5 2.5l-.94 2.06-2.06.94zm10 10l.94 2.06.94-2.06 2.06-.94-2.06-.94-.94-2.06-.94 2.06-2.06.94z\"/><path d=\"M17.41 7.96l-1.37-1.37c-.4-.4-.92-.59-1.43-.59-.52 0-1.04.2-1.43.59L10.3 9.45l-7.72 7.72c-.78.78-.78 2.05 0 2.83L4 21.41c.39.39.9.59 1.41.59.51 0 1.02-.2 1.41-.59l7.78-7.78 2.81-2.81c.8-.78.8-2.07 0-2.86zM5.41 20L4 18.59l7.72-7.72 1.47 1.35L5.41 20z\"/>\n",
              "  </svg>\n",
              "      </button>\n",
              "      \n",
              "  <style>\n",
              "    .colab-df-container {\n",
              "      display:flex;\n",
              "      flex-wrap:wrap;\n",
              "      gap: 12px;\n",
              "    }\n",
              "\n",
              "    .colab-df-convert {\n",
              "      background-color: #E8F0FE;\n",
              "      border: none;\n",
              "      border-radius: 50%;\n",
              "      cursor: pointer;\n",
              "      display: none;\n",
              "      fill: #1967D2;\n",
              "      height: 32px;\n",
              "      padding: 0 0 0 0;\n",
              "      width: 32px;\n",
              "    }\n",
              "\n",
              "    .colab-df-convert:hover {\n",
              "      background-color: #E2EBFA;\n",
              "      box-shadow: 0px 1px 2px rgba(60, 64, 67, 0.3), 0px 1px 3px 1px rgba(60, 64, 67, 0.15);\n",
              "      fill: #174EA6;\n",
              "    }\n",
              "\n",
              "    [theme=dark] .colab-df-convert {\n",
              "      background-color: #3B4455;\n",
              "      fill: #D2E3FC;\n",
              "    }\n",
              "\n",
              "    [theme=dark] .colab-df-convert:hover {\n",
              "      background-color: #434B5C;\n",
              "      box-shadow: 0px 1px 3px 1px rgba(0, 0, 0, 0.15);\n",
              "      filter: drop-shadow(0px 1px 2px rgba(0, 0, 0, 0.3));\n",
              "      fill: #FFFFFF;\n",
              "    }\n",
              "  </style>\n",
              "\n",
              "      <script>\n",
              "        const buttonEl =\n",
              "          document.querySelector('#df-cb63352b-86d9-432e-9431-bd7939d4255c button.colab-df-convert');\n",
              "        buttonEl.style.display =\n",
              "          google.colab.kernel.accessAllowed ? 'block' : 'none';\n",
              "\n",
              "        async function convertToInteractive(key) {\n",
              "          const element = document.querySelector('#df-cb63352b-86d9-432e-9431-bd7939d4255c');\n",
              "          const dataTable =\n",
              "            await google.colab.kernel.invokeFunction('convertToInteractive',\n",
              "                                                     [key], {});\n",
              "          if (!dataTable) return;\n",
              "\n",
              "          const docLinkHtml = 'Like what you see? Visit the ' +\n",
              "            '<a target=\"_blank\" href=https://colab.research.google.com/notebooks/data_table.ipynb>data table notebook</a>'\n",
              "            + ' to learn more about interactive tables.';\n",
              "          element.innerHTML = '';\n",
              "          dataTable['output_type'] = 'display_data';\n",
              "          await google.colab.output.renderOutput(dataTable, element);\n",
              "          const docLink = document.createElement('div');\n",
              "          docLink.innerHTML = docLinkHtml;\n",
              "          element.appendChild(docLink);\n",
              "        }\n",
              "      </script>\n",
              "    </div>\n",
              "  </div>\n",
              "  "
            ]
          },
          "metadata": {},
          "execution_count": 6
        }
      ]
    },
    {
      "cell_type": "code",
      "source": [
        "nlp = en_core_web_sm.load()"
      ],
      "metadata": {
        "id": "Q_dV-lOMBpy8"
      },
      "execution_count": null,
      "outputs": []
    },
    {
      "cell_type": "code",
      "source": [
        "aller_list.head()"
      ],
      "metadata": {
        "id": "geWWMC41YcFq",
        "colab": {
          "base_uri": "https://localhost:8080/",
          "height": 206
        },
        "outputId": "cb394806-77be-4bec-83ef-8f51546f3b89"
      },
      "execution_count": null,
      "outputs": [
        {
          "output_type": "execute_result",
          "data": {
            "text/plain": [
              "  Ingridients\n",
              "0     celery \n",
              "1       lupin\n",
              "2      lupine\n",
              "3        milk\n",
              "4      cheese"
            ],
            "text/html": [
              "\n",
              "  <div id=\"df-0859edcb-3812-49fb-b6cd-8cacc3ef1669\">\n",
              "    <div class=\"colab-df-container\">\n",
              "      <div>\n",
              "<style scoped>\n",
              "    .dataframe tbody tr th:only-of-type {\n",
              "        vertical-align: middle;\n",
              "    }\n",
              "\n",
              "    .dataframe tbody tr th {\n",
              "        vertical-align: top;\n",
              "    }\n",
              "\n",
              "    .dataframe thead th {\n",
              "        text-align: right;\n",
              "    }\n",
              "</style>\n",
              "<table border=\"1\" class=\"dataframe\">\n",
              "  <thead>\n",
              "    <tr style=\"text-align: right;\">\n",
              "      <th></th>\n",
              "      <th>Ingridients</th>\n",
              "    </tr>\n",
              "  </thead>\n",
              "  <tbody>\n",
              "    <tr>\n",
              "      <th>0</th>\n",
              "      <td>celery</td>\n",
              "    </tr>\n",
              "    <tr>\n",
              "      <th>1</th>\n",
              "      <td>lupin</td>\n",
              "    </tr>\n",
              "    <tr>\n",
              "      <th>2</th>\n",
              "      <td>lupine</td>\n",
              "    </tr>\n",
              "    <tr>\n",
              "      <th>3</th>\n",
              "      <td>milk</td>\n",
              "    </tr>\n",
              "    <tr>\n",
              "      <th>4</th>\n",
              "      <td>cheese</td>\n",
              "    </tr>\n",
              "  </tbody>\n",
              "</table>\n",
              "</div>\n",
              "      <button class=\"colab-df-convert\" onclick=\"convertToInteractive('df-0859edcb-3812-49fb-b6cd-8cacc3ef1669')\"\n",
              "              title=\"Convert this dataframe to an interactive table.\"\n",
              "              style=\"display:none;\">\n",
              "        \n",
              "  <svg xmlns=\"http://www.w3.org/2000/svg\" height=\"24px\"viewBox=\"0 0 24 24\"\n",
              "       width=\"24px\">\n",
              "    <path d=\"M0 0h24v24H0V0z\" fill=\"none\"/>\n",
              "    <path d=\"M18.56 5.44l.94 2.06.94-2.06 2.06-.94-2.06-.94-.94-2.06-.94 2.06-2.06.94zm-11 1L8.5 8.5l.94-2.06 2.06-.94-2.06-.94L8.5 2.5l-.94 2.06-2.06.94zm10 10l.94 2.06.94-2.06 2.06-.94-2.06-.94-.94-2.06-.94 2.06-2.06.94z\"/><path d=\"M17.41 7.96l-1.37-1.37c-.4-.4-.92-.59-1.43-.59-.52 0-1.04.2-1.43.59L10.3 9.45l-7.72 7.72c-.78.78-.78 2.05 0 2.83L4 21.41c.39.39.9.59 1.41.59.51 0 1.02-.2 1.41-.59l7.78-7.78 2.81-2.81c.8-.78.8-2.07 0-2.86zM5.41 20L4 18.59l7.72-7.72 1.47 1.35L5.41 20z\"/>\n",
              "  </svg>\n",
              "      </button>\n",
              "      \n",
              "  <style>\n",
              "    .colab-df-container {\n",
              "      display:flex;\n",
              "      flex-wrap:wrap;\n",
              "      gap: 12px;\n",
              "    }\n",
              "\n",
              "    .colab-df-convert {\n",
              "      background-color: #E8F0FE;\n",
              "      border: none;\n",
              "      border-radius: 50%;\n",
              "      cursor: pointer;\n",
              "      display: none;\n",
              "      fill: #1967D2;\n",
              "      height: 32px;\n",
              "      padding: 0 0 0 0;\n",
              "      width: 32px;\n",
              "    }\n",
              "\n",
              "    .colab-df-convert:hover {\n",
              "      background-color: #E2EBFA;\n",
              "      box-shadow: 0px 1px 2px rgba(60, 64, 67, 0.3), 0px 1px 3px 1px rgba(60, 64, 67, 0.15);\n",
              "      fill: #174EA6;\n",
              "    }\n",
              "\n",
              "    [theme=dark] .colab-df-convert {\n",
              "      background-color: #3B4455;\n",
              "      fill: #D2E3FC;\n",
              "    }\n",
              "\n",
              "    [theme=dark] .colab-df-convert:hover {\n",
              "      background-color: #434B5C;\n",
              "      box-shadow: 0px 1px 3px 1px rgba(0, 0, 0, 0.15);\n",
              "      filter: drop-shadow(0px 1px 2px rgba(0, 0, 0, 0.3));\n",
              "      fill: #FFFFFF;\n",
              "    }\n",
              "  </style>\n",
              "\n",
              "      <script>\n",
              "        const buttonEl =\n",
              "          document.querySelector('#df-0859edcb-3812-49fb-b6cd-8cacc3ef1669 button.colab-df-convert');\n",
              "        buttonEl.style.display =\n",
              "          google.colab.kernel.accessAllowed ? 'block' : 'none';\n",
              "\n",
              "        async function convertToInteractive(key) {\n",
              "          const element = document.querySelector('#df-0859edcb-3812-49fb-b6cd-8cacc3ef1669');\n",
              "          const dataTable =\n",
              "            await google.colab.kernel.invokeFunction('convertToInteractive',\n",
              "                                                     [key], {});\n",
              "          if (!dataTable) return;\n",
              "\n",
              "          const docLinkHtml = 'Like what you see? Visit the ' +\n",
              "            '<a target=\"_blank\" href=https://colab.research.google.com/notebooks/data_table.ipynb>data table notebook</a>'\n",
              "            + ' to learn more about interactive tables.';\n",
              "          element.innerHTML = '';\n",
              "          dataTable['output_type'] = 'display_data';\n",
              "          await google.colab.output.renderOutput(dataTable, element);\n",
              "          const docLink = document.createElement('div');\n",
              "          docLink.innerHTML = docLinkHtml;\n",
              "          element.appendChild(docLink);\n",
              "        }\n",
              "      </script>\n",
              "    </div>\n",
              "  </div>\n",
              "  "
            ]
          },
          "metadata": {},
          "execution_count": 8
        }
      ]
    },
    {
      "cell_type": "code",
      "source": [
        "np.set_printoptions(precision=2)"
      ],
      "metadata": {
        "id": "KB_HAGgXBgBW"
      },
      "execution_count": null,
      "outputs": []
    },
    {
      "cell_type": "code",
      "source": [
        "allergen_embeddings = []\n",
        "for allergen in aller_list.Ingridients:\n",
        "  vector = nlp(allergen)\n",
        "  allergen_embeddings.append(vector.vector)"
      ],
      "metadata": {
        "id": "98f_zpZbBPz-"
      },
      "execution_count": null,
      "outputs": []
    },
    {
      "cell_type": "code",
      "source": [
        "def preprocess(text):\n",
        "    text = re.sub('#S+', '',text)\n",
        "    text = re.sub('@S+', '  ',text)\n",
        "    text = re.sub('httpS+s*', ' ', text) \n",
        "    text = re.sub('[%s]' % re.escape(\"\"\"!\"#$%&'()*+-,./:;<=>?@[]^_`{|}~\"\"\"), ' ', text)\n",
        "    text = re.sub('RT|cc', ' ', text)\n",
        "    text = re.sub(r'<[^<]+?>', '', text)\n",
        "    text = re.sub(r'[0-9]', \"\", text)\n",
        "    text = text.replace('\\n', ' ') \n",
        "    text = re.sub(r'\\s+', ' ', text)\n",
        "    return text"
      ],
      "metadata": {
        "id": "OYGjrgyXeNd8"
      },
      "execution_count": null,
      "outputs": []
    },
    {
      "cell_type": "code",
      "source": [
        "def detect_allergen(image_url):\n",
        "  allergen = []\n",
        "  final_ocr = []\n",
        "  image = keras_ocr.tools.read(image_url)\n",
        "  prediction_group = pipeline.recognize([image])\n",
        "  for text in prediction_group[0]:\n",
        "    final_ocr.append(text[0])\n",
        "  final_ocr = \" \".join(str(x) for x in final_ocr)\n",
        "  clean_ocr = preprocess(final_ocr)\n",
        "  clean_ocr = word_tokenize(clean_ocr)\n",
        "  clean_ocr = [i.lower() for i in clean_ocr]\n",
        "  print(list(clean_ocr))\n",
        "  for i in clean_ocr:\n",
        "    for j in allergen_embeddings:\n",
        "      ingred = nlp(i)\n",
        "      ingred = np.array(ingred.vector.reshape(1, -1))\n",
        "      aller = np.array(j).reshape(1, -1)\n",
        "      sim = cosine_similarity(ingred, aller)\n",
        "      if sim > 0.90:\n",
        "\n",
        "\n",
        "        print('May contain {}'.format(i))"
      ],
      "metadata": {
        "id": "dEx0mJVYAwUJ"
      },
      "execution_count": null,
      "outputs": []
    },
    {
      "cell_type": "code",
      "source": [
        "detect_allergen(df.image_ingredients_url[10])"
      ],
      "metadata": {
        "colab": {
          "base_uri": "https://localhost:8080/"
        },
        "id": "LZKo0xafbr32",
        "outputId": "ab92b565-ace5-4226-bfce-e993c34dc13b"
      },
      "execution_count": null,
      "outputs": [
        {
          "output_type": "stream",
          "name": "stdout",
          "text": [
            "['gb', 'biscuits', 'filed', 'cappucaino', 'cream', 'hond', 'with', 'sunfaner', 'vegelable', 'whole', 'ingrediets', 'wheat', 'nour', 'sugu', 'vegetable', 'cls', 'of', 'palm', 'and', 'palm', 'oil', 'wsten', 'mugonne', 'harelnut', 'eggs', 'butter', 'whey', 'powder', 'coffee', 'isn', 'the', 'sin', 'wheat', 'stanch', 'glucose', 'pie', 'n', 'mill', 'powcer', 'snp', 'sodum', 'carbonaes', 'flvounegs', 'imay', 'coca', 'emuliher', 'ledthin', 'sall', 'rasing', 'sgents', 'and', 'ammoowm', 'geam', 'soy', 'sounes', 'dry', 'from', 'ught', 'best', 'tefore', 'eno', 'fats', 'keep', 'ool', 'and', 'away', 'no', 'hydrogented', 'contain', 'peanut', 'wraes', 'wade', 'ialy', 'bclon', 'in', 'date', 'prinited', 'sce']\n",
            "May contain cream\n",
            "May contain wheat\n",
            "May contain butter\n",
            "May contain wheat\n",
            "May contain soy\n",
            "May contain peanut\n"
          ]
        }
      ]
    },
    {
      "cell_type": "code",
      "source": [
        "detect_allergen(df.image_ingredients_url[10])"
      ],
      "metadata": {
        "id": "Afa2qlekdIPi"
      },
      "execution_count": null,
      "outputs": []
    }
  ]
}