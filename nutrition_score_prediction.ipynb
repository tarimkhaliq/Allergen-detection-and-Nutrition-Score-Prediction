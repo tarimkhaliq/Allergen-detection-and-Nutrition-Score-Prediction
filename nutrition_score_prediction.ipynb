{
  "nbformat": 4,
  "nbformat_minor": 0,
  "metadata": {
    "colab": {
      "provenance": [],
      "collapsed_sections": []
    },
    "kernelspec": {
      "name": "python3",
      "display_name": "Python 3"
    },
    "language_info": {
      "name": "python"
    }
  },
  "cells": [
    {
      "cell_type": "code",
      "execution_count": null,
      "metadata": {
        "id": "PEw4S968mLA3",
        "colab": {
          "base_uri": "https://localhost:8080/"
        },
        "outputId": "5875bf00-54ea-47ef-f1f2-835e94ec6d70"
      },
      "outputs": [
        {
          "output_type": "stream",
          "name": "stdout",
          "text": [
            "Downloading...\n",
            "From: https://drive.google.com/uc?id=17JHIac30dyF3P5BRS_FIvUbJc04lQJWC\n",
            "To: /content/Nutrition_Training_Data.csv\n",
            "100% 4.38M/4.38M [00:00<00:00, 30.5MB/s]\n"
          ]
        }
      ],
      "source": [
        "!gdown 17JHIac30dyF3P5BRS_FIvUbJc04lQJWC"
      ]
    },
    {
      "cell_type": "code",
      "source": [
        "!pip install paddleocr\n",
        "!pip install paddlepaddle\n",
        "!git clone https://github.com/PaddlePaddle/PaddleOCR"
      ],
      "metadata": {
        "colab": {
          "base_uri": "https://localhost:8080/"
        },
        "id": "4ZO4I08WIJqD",
        "outputId": "eea1d392-173c-4928-a07b-aab650c45ff3"
      },
      "execution_count": null,
      "outputs": [
        {
          "output_type": "stream",
          "name": "stdout",
          "text": [
            "Looking in indexes: https://pypi.org/simple, https://us-python.pkg.dev/colab-wheels/public/simple/\n",
            "Collecting paddleocr\n",
            "  Downloading paddleocr-2.6-py3-none-any.whl (377 kB)\n",
            "\u001b[K     |████████████████████████████████| 377 kB 7.6 MB/s \n",
            "\u001b[?25hRequirement already satisfied: lxml in /usr/local/lib/python3.7/dist-packages (from paddleocr) (4.9.1)\n",
            "Requirement already satisfied: tqdm in /usr/local/lib/python3.7/dist-packages (from paddleocr) (4.64.0)\n",
            "Requirement already satisfied: scikit-image in /usr/local/lib/python3.7/dist-packages (from paddleocr) (0.18.3)\n",
            "Requirement already satisfied: imgaug in /usr/local/lib/python3.7/dist-packages (from paddleocr) (0.4.0)\n",
            "Requirement already satisfied: numpy in /usr/local/lib/python3.7/dist-packages (from paddleocr) (1.21.6)\n",
            "Collecting visualdl\n",
            "  Downloading visualdl-2.4.0-py3-none-any.whl (4.9 MB)\n",
            "\u001b[K     |████████████████████████████████| 4.9 MB 65.6 MB/s \n",
            "\u001b[?25hRequirement already satisfied: shapely in /usr/local/lib/python3.7/dist-packages (from paddleocr) (1.8.4)\n",
            "Requirement already satisfied: openpyxl in /usr/local/lib/python3.7/dist-packages (from paddleocr) (3.0.10)\n",
            "Collecting attrdict\n",
            "  Downloading attrdict-2.0.1-py2.py3-none-any.whl (9.9 kB)\n",
            "Requirement already satisfied: cython in /usr/local/lib/python3.7/dist-packages (from paddleocr) (0.29.32)\n",
            "Requirement already satisfied: opencv-contrib-python in /usr/local/lib/python3.7/dist-packages (from paddleocr) (4.6.0.66)\n",
            "Collecting rapidfuzz\n",
            "  Downloading rapidfuzz-2.6.1-cp37-cp37m-manylinux_2_17_x86_64.manylinux2014_x86_64.whl (2.3 MB)\n",
            "\u001b[K     |████████████████████████████████| 2.3 MB 56.0 MB/s \n",
            "\u001b[?25hCollecting pyclipper\n",
            "  Downloading pyclipper-1.3.0.post3-cp37-cp37m-manylinux_2_5_x86_64.manylinux1_x86_64.whl (604 kB)\n",
            "\u001b[K     |████████████████████████████████| 604 kB 103.3 MB/s \n",
            "\u001b[?25hRequirement already satisfied: lmdb in /usr/local/lib/python3.7/dist-packages (from paddleocr) (0.99)\n",
            "Collecting premailer\n",
            "  Downloading premailer-3.10.0-py2.py3-none-any.whl (19 kB)\n",
            "Requirement already satisfied: six in /usr/local/lib/python3.7/dist-packages (from attrdict->paddleocr) (1.15.0)\n",
            "Requirement already satisfied: scipy in /usr/local/lib/python3.7/dist-packages (from imgaug->paddleocr) (1.7.3)\n",
            "Requirement already satisfied: imageio in /usr/local/lib/python3.7/dist-packages (from imgaug->paddleocr) (2.9.0)\n",
            "Requirement already satisfied: matplotlib in /usr/local/lib/python3.7/dist-packages (from imgaug->paddleocr) (3.2.2)\n",
            "Requirement already satisfied: opencv-python in /usr/local/lib/python3.7/dist-packages (from imgaug->paddleocr) (4.6.0.66)\n",
            "Requirement already satisfied: Pillow in /usr/local/lib/python3.7/dist-packages (from imgaug->paddleocr) (7.1.2)\n",
            "Requirement already satisfied: networkx>=2.0 in /usr/local/lib/python3.7/dist-packages (from scikit-image->paddleocr) (2.6.3)\n",
            "Requirement already satisfied: tifffile>=2019.7.26 in /usr/local/lib/python3.7/dist-packages (from scikit-image->paddleocr) (2021.11.2)\n",
            "Requirement already satisfied: PyWavelets>=1.1.1 in /usr/local/lib/python3.7/dist-packages (from scikit-image->paddleocr) (1.3.0)\n",
            "Requirement already satisfied: kiwisolver>=1.0.1 in /usr/local/lib/python3.7/dist-packages (from matplotlib->imgaug->paddleocr) (1.4.4)\n",
            "Requirement already satisfied: pyparsing!=2.0.4,!=2.1.2,!=2.1.6,>=2.0.1 in /usr/local/lib/python3.7/dist-packages (from matplotlib->imgaug->paddleocr) (3.0.9)\n",
            "Requirement already satisfied: python-dateutil>=2.1 in /usr/local/lib/python3.7/dist-packages (from matplotlib->imgaug->paddleocr) (2.8.2)\n",
            "Requirement already satisfied: cycler>=0.10 in /usr/local/lib/python3.7/dist-packages (from matplotlib->imgaug->paddleocr) (0.11.0)\n",
            "Requirement already satisfied: typing-extensions in /usr/local/lib/python3.7/dist-packages (from kiwisolver>=1.0.1->matplotlib->imgaug->paddleocr) (4.1.1)\n",
            "Requirement already satisfied: et-xmlfile in /usr/local/lib/python3.7/dist-packages (from openpyxl->paddleocr) (1.1.0)\n",
            "Collecting cssselect\n",
            "  Downloading cssselect-1.1.0-py2.py3-none-any.whl (16 kB)\n",
            "Requirement already satisfied: requests in /usr/local/lib/python3.7/dist-packages (from premailer->paddleocr) (2.23.0)\n",
            "Collecting cssutils\n",
            "  Downloading cssutils-2.6.0-py3-none-any.whl (399 kB)\n",
            "\u001b[K     |████████████████████████████████| 399 kB 78.4 MB/s \n",
            "\u001b[?25hRequirement already satisfied: cachetools in /usr/local/lib/python3.7/dist-packages (from premailer->paddleocr) (4.2.4)\n",
            "Requirement already satisfied: importlib-metadata in /usr/local/lib/python3.7/dist-packages (from cssutils->premailer->paddleocr) (4.12.0)\n",
            "Requirement already satisfied: zipp>=0.5 in /usr/local/lib/python3.7/dist-packages (from importlib-metadata->cssutils->premailer->paddleocr) (3.8.1)\n",
            "Collecting jarowinkler<2.0.0,>=1.2.0\n",
            "  Downloading jarowinkler-1.2.1-cp37-cp37m-manylinux_2_17_x86_64.manylinux2014_x86_64.whl (104 kB)\n",
            "\u001b[K     |████████████████████████████████| 104 kB 77.9 MB/s \n",
            "\u001b[?25hRequirement already satisfied: certifi>=2017.4.17 in /usr/local/lib/python3.7/dist-packages (from requests->premailer->paddleocr) (2022.6.15)\n",
            "Requirement already satisfied: idna<3,>=2.5 in /usr/local/lib/python3.7/dist-packages (from requests->premailer->paddleocr) (2.10)\n",
            "Requirement already satisfied: urllib3!=1.25.0,!=1.25.1,<1.26,>=1.21.1 in /usr/local/lib/python3.7/dist-packages (from requests->premailer->paddleocr) (1.24.3)\n",
            "Requirement already satisfied: chardet<4,>=3.0.2 in /usr/local/lib/python3.7/dist-packages (from requests->premailer->paddleocr) (3.0.4)\n",
            "Collecting Flask-Babel>=1.0.0\n",
            "  Downloading Flask_Babel-2.0.0-py3-none-any.whl (9.3 kB)\n",
            "Requirement already satisfied: flask>=1.1.1 in /usr/local/lib/python3.7/dist-packages (from visualdl->paddleocr) (1.1.4)\n",
            "Requirement already satisfied: pandas in /usr/local/lib/python3.7/dist-packages (from visualdl->paddleocr) (1.3.5)\n",
            "Collecting bce-python-sdk\n",
            "  Downloading bce_python_sdk-0.8.74-py3-none-any.whl (204 kB)\n",
            "\u001b[K     |████████████████████████████████| 204 kB 93.2 MB/s \n",
            "\u001b[?25hRequirement already satisfied: protobuf>=3.11.0 in /usr/local/lib/python3.7/dist-packages (from visualdl->paddleocr) (3.17.3)\n",
            "Requirement already satisfied: click<8.0,>=5.1 in /usr/local/lib/python3.7/dist-packages (from flask>=1.1.1->visualdl->paddleocr) (7.1.2)\n",
            "Requirement already satisfied: Werkzeug<2.0,>=0.15 in /usr/local/lib/python3.7/dist-packages (from flask>=1.1.1->visualdl->paddleocr) (1.0.1)\n",
            "Requirement already satisfied: itsdangerous<2.0,>=0.24 in /usr/local/lib/python3.7/dist-packages (from flask>=1.1.1->visualdl->paddleocr) (1.1.0)\n",
            "Requirement already satisfied: Jinja2<3.0,>=2.10.1 in /usr/local/lib/python3.7/dist-packages (from flask>=1.1.1->visualdl->paddleocr) (2.11.3)\n",
            "Requirement already satisfied: Babel>=2.3 in /usr/local/lib/python3.7/dist-packages (from Flask-Babel>=1.0.0->visualdl->paddleocr) (2.10.3)\n",
            "Requirement already satisfied: pytz in /usr/local/lib/python3.7/dist-packages (from Flask-Babel>=1.0.0->visualdl->paddleocr) (2022.2.1)\n",
            "Requirement already satisfied: MarkupSafe>=0.23 in /usr/local/lib/python3.7/dist-packages (from Jinja2<3.0,>=2.10.1->flask>=1.1.1->visualdl->paddleocr) (2.0.1)\n",
            "Collecting pycryptodome>=3.8.0\n",
            "  Downloading pycryptodome-3.15.0-cp35-abi3-manylinux2010_x86_64.whl (2.3 MB)\n",
            "\u001b[K     |████████████████████████████████| 2.3 MB 52.7 MB/s \n",
            "\u001b[?25hRequirement already satisfied: future>=0.6.0 in /usr/local/lib/python3.7/dist-packages (from bce-python-sdk->visualdl->paddleocr) (0.16.0)\n",
            "Installing collected packages: pycryptodome, jarowinkler, Flask-Babel, cssutils, cssselect, bce-python-sdk, visualdl, rapidfuzz, pyclipper, premailer, attrdict, paddleocr\n",
            "Successfully installed Flask-Babel-2.0.0 attrdict-2.0.1 bce-python-sdk-0.8.74 cssselect-1.1.0 cssutils-2.6.0 jarowinkler-1.2.1 paddleocr-2.6 premailer-3.10.0 pyclipper-1.3.0.post3 pycryptodome-3.15.0 rapidfuzz-2.6.1 visualdl-2.4.0\n",
            "Looking in indexes: https://pypi.org/simple, https://us-python.pkg.dev/colab-wheels/public/simple/\n",
            "Collecting paddlepaddle\n",
            "  Downloading paddlepaddle-2.3.2-cp37-cp37m-manylinux1_x86_64.whl (112.5 MB)\n",
            "\u001b[K     |████████████████████████████████| 112.5 MB 62 kB/s \n",
            "\u001b[?25hRequirement already satisfied: protobuf<=3.20.0,>=3.1.0 in /usr/local/lib/python3.7/dist-packages (from paddlepaddle) (3.17.3)\n",
            "Requirement already satisfied: astor in /usr/local/lib/python3.7/dist-packages (from paddlepaddle) (0.8.1)\n",
            "Requirement already satisfied: six in /usr/local/lib/python3.7/dist-packages (from paddlepaddle) (1.15.0)\n",
            "Requirement already satisfied: Pillow in /usr/local/lib/python3.7/dist-packages (from paddlepaddle) (7.1.2)\n",
            "Requirement already satisfied: requests>=2.20.0 in /usr/local/lib/python3.7/dist-packages (from paddlepaddle) (2.23.0)\n",
            "Collecting paddle-bfloat==0.1.7\n",
            "  Downloading paddle_bfloat-0.1.7-cp37-cp37m-manylinux_2_17_x86_64.manylinux2014_x86_64.whl (394 kB)\n",
            "\u001b[K     |████████████████████████████████| 394 kB 83.9 MB/s \n",
            "\u001b[?25hRequirement already satisfied: numpy>=1.13 in /usr/local/lib/python3.7/dist-packages (from paddlepaddle) (1.21.6)\n",
            "Requirement already satisfied: opt-einsum==3.3.0 in /usr/local/lib/python3.7/dist-packages (from paddlepaddle) (3.3.0)\n",
            "Requirement already satisfied: decorator in /usr/local/lib/python3.7/dist-packages (from paddlepaddle) (4.4.2)\n",
            "Requirement already satisfied: urllib3!=1.25.0,!=1.25.1,<1.26,>=1.21.1 in /usr/local/lib/python3.7/dist-packages (from requests>=2.20.0->paddlepaddle) (1.24.3)\n",
            "Requirement already satisfied: certifi>=2017.4.17 in /usr/local/lib/python3.7/dist-packages (from requests>=2.20.0->paddlepaddle) (2022.6.15)\n",
            "Requirement already satisfied: chardet<4,>=3.0.2 in /usr/local/lib/python3.7/dist-packages (from requests>=2.20.0->paddlepaddle) (3.0.4)\n",
            "Requirement already satisfied: idna<3,>=2.5 in /usr/local/lib/python3.7/dist-packages (from requests>=2.20.0->paddlepaddle) (2.10)\n",
            "Installing collected packages: paddle-bfloat, paddlepaddle\n",
            "Successfully installed paddle-bfloat-0.1.7 paddlepaddle-2.3.2\n",
            "Cloning into 'PaddleOCR'...\n",
            "remote: Enumerating objects: 42470, done.\u001b[K\n",
            "remote: Counting objects: 100% (710/710), done.\u001b[K\n",
            "remote: Compressing objects: 100% (368/368), done.\u001b[K\n",
            "remote: Total 42470 (delta 400), reused 593 (delta 339), pack-reused 41760\u001b[K\n",
            "Receiving objects: 100% (42470/42470), 335.98 MiB | 31.59 MiB/s, done.\n",
            "Resolving deltas: 100% (29817/29817), done.\n"
          ]
        }
      ]
    },
    {
      "cell_type": "code",
      "source": [
        "from tensorflow.keras.models import Model\n",
        "from tensorflow.keras.layers import Input\n",
        "from sklearn.preprocessing import StandardScaler\n",
        "from sklearn.preprocessing import LabelEncoder\n",
        "from numpy import argmax\n",
        "from sklearn.metrics import mean_absolute_error\n",
        "import numpy as np\n",
        "import re\n",
        "from skimage import io\n",
        "from tensorflow.keras.layers import Dense\n",
        "from tensorflow.keras.utils import plot_model\n",
        "from sklearn.metrics import accuracy_score\n",
        "from sklearn.model_selection import train_test_split\n",
        "from tensorflow.keras.models import load_model\n",
        "import pandas as pd\n",
        "from paddleocr import PPStructure,save_structure_res\n",
        "import os\n",
        "import cv2"
      ],
      "metadata": {
        "id": "OlsZ919SvzRM"
      },
      "execution_count": null,
      "outputs": []
    },
    {
      "cell_type": "code",
      "source": [
        "table_engine = PPStructure(layout=False, show_log=True)"
      ],
      "metadata": {
        "colab": {
          "base_uri": "https://localhost:8080/"
        },
        "id": "sayImgsDRKli",
        "outputId": "9b31aa58-5f1f-4a03-e282-309962c1dc62"
      },
      "execution_count": null,
      "outputs": [
        {
          "output_type": "stream",
          "name": "stdout",
          "text": [
            "download https://paddleocr.bj.bcebos.com/PP-OCRv3/chinese/ch_PP-OCRv3_det_infer.tar to /root/.paddleocr/whl/det/ch/ch_PP-OCRv3_det_infer/ch_PP-OCRv3_det_infer.tar\n"
          ]
        },
        {
          "output_type": "stream",
          "name": "stderr",
          "text": [
            "100%|██████████| 3.83M/3.83M [00:15<00:00, 253kiB/s]\n"
          ]
        },
        {
          "output_type": "stream",
          "name": "stdout",
          "text": [
            "download https://paddleocr.bj.bcebos.com/PP-OCRv3/chinese/ch_PP-OCRv3_rec_infer.tar to /root/.paddleocr/whl/rec/ch/ch_PP-OCRv3_rec_infer/ch_PP-OCRv3_rec_infer.tar\n"
          ]
        },
        {
          "output_type": "stream",
          "name": "stderr",
          "text": [
            "100%|██████████| 11.9M/11.9M [00:11<00:00, 1.01MiB/s]\n"
          ]
        },
        {
          "output_type": "stream",
          "name": "stdout",
          "text": [
            "download https://paddleocr.bj.bcebos.com/ppstructure/models/slanet/ch_ppstructure_mobile_v2.0_SLANet_infer.tar to /root/.paddleocr/whl/table/ch_ppstructure_mobile_v2.0_SLANet_infer/ch_ppstructure_mobile_v2.0_SLANet_infer.tar\n"
          ]
        },
        {
          "output_type": "stream",
          "name": "stderr",
          "text": [
            "100%|██████████| 10.3M/10.3M [00:26<00:00, 393kiB/s] \n"
          ]
        },
        {
          "output_type": "stream",
          "name": "stdout",
          "text": [
            "download https://paddleocr.bj.bcebos.com/ppstructure/models/layout/picodet_lcnet_x1_0_fgd_layout_cdla_infer.tar to /root/.paddleocr/whl/layout/picodet_lcnet_x1_0_fgd_layout_cdla_infer/picodet_lcnet_x1_0_fgd_layout_cdla_infer.tar\n"
          ]
        },
        {
          "output_type": "stream",
          "name": "stderr",
          "text": [
            "100%|██████████| 10.1M/10.1M [00:10<00:00, 979kiB/s] \n"
          ]
        },
        {
          "output_type": "stream",
          "name": "stdout",
          "text": [
            "[2022/09/06 12:04:10] ppocr DEBUG: Namespace(alpha=1.0, benchmark=False, beta=1.0, cls_batch_num=6, cls_image_shape='3, 48, 192', cls_model_dir=None, cls_thresh=0.9, cpu_threads=10, crop_res_save_dir='./output', det=True, det_algorithm='DB', det_db_box_thresh=0.6, det_db_score_mode='fast', det_db_thresh=0.3, det_db_unclip_ratio=1.5, det_east_cover_thresh=0.1, det_east_nms_thresh=0.2, det_east_score_thresh=0.8, det_fce_box_type='poly', det_limit_side_len=960, det_limit_type='max', det_model_dir='/root/.paddleocr/whl/det/ch/ch_PP-OCRv3_det_infer', det_pse_box_thresh=0.85, det_pse_box_type='quad', det_pse_min_area=16, det_pse_scale=1, det_pse_thresh=0, det_sast_nms_thresh=0.2, det_sast_polygon=False, det_sast_score_thresh=0.5, draw_img_save_dir='./inference_results', drop_score=0.5, e2e_algorithm='PGNet', e2e_char_dict_path='./ppocr/utils/ic15_dict.txt', e2e_limit_side_len=768, e2e_limit_type='max', e2e_model_dir=None, e2e_pgnet_mode='fast', e2e_pgnet_score_thresh=0.5, e2e_pgnet_valid_set='totaltext', enable_mkldnn=False, fourier_degree=5, gpu_mem=500, help='==SUPPRESS==', image_dir=None, image_orientation=False, ir_optim=True, kie_algorithm='LayoutXLM', label_list=['0', '180'], lang='ch', layout=False, layout_dict_path='/usr/local/lib/python3.7/dist-packages/paddleocr/ppocr/utils/dict/layout_dict/layout_cdla_dict.txt', layout_model_dir='/root/.paddleocr/whl/layout/picodet_lcnet_x1_0_fgd_layout_cdla_infer', layout_nms_threshold=0.5, layout_score_threshold=0.5, max_batch_size=10, max_text_length=25, merge_no_span_structure=True, min_subgraph_size=15, mode='structure', ocr=True, ocr_order_method=None, ocr_version='PP-OCRv3', output='./output', precision='fp32', process_id=0, rec=True, rec_algorithm='SVTR_LCNet', rec_batch_num=6, rec_char_dict_path='/usr/local/lib/python3.7/dist-packages/paddleocr/ppocr/utils/ppocr_keys_v1.txt', rec_image_shape='3, 48, 320', rec_model_dir='/root/.paddleocr/whl/rec/ch/ch_PP-OCRv3_rec_infer', recovery=False, save_crop_res=False, save_log_path='./log_output/', save_pdf=False, scales=[8, 16, 32], ser_dict_path='../train_data/XFUND/class_list_xfun.txt', ser_model_dir=None, shape_info_filename=None, show_log=True, sr_batch_num=1, sr_image_shape='3, 32, 128', sr_model_dir=None, structure_version='PP-Structurev2', table=True, table_algorithm='TableAttn', table_char_dict_path='/usr/local/lib/python3.7/dist-packages/paddleocr/ppocr/utils/dict/table_structure_dict_ch.txt', table_max_len=488, table_model_dir='/root/.paddleocr/whl/table/ch_ppstructure_mobile_v2.0_SLANet_infer', total_process_num=1, type='ocr', use_angle_cls=False, use_dilation=False, use_gpu=False, use_mp=False, use_onnx=False, use_pdserving=False, use_space_char=True, use_tensorrt=False, use_xpu=False, vis_font_path='./doc/fonts/simfang.ttf', warmup=False)\n",
            "[2022/09/06 12:04:10] ppocr WARNING: When args.layout is false, args.ocr is automatically set to false\n"
          ]
        }
      ]
    },
    {
      "cell_type": "code",
      "source": [
        "df = pd.read_csv('/content/Nutrition_Training_Data.csv')"
      ],
      "metadata": {
        "id": "nJhqRiy6mjf4"
      },
      "execution_count": null,
      "outputs": []
    },
    {
      "cell_type": "code",
      "source": [
        "df.head(10)"
      ],
      "metadata": {
        "colab": {
          "base_uri": "https://localhost:8080/",
          "height": 861
        },
        "id": "cYpdBGv0ms5l",
        "outputId": "cfbc8b97-687e-4a2e-82d4-0eda6ef29d51"
      },
      "execution_count": null,
      "outputs": [
        {
          "output_type": "execute_result",
          "data": {
            "text/plain": [
              "                                    ingredients_text  \\\n",
              "0  SUGAR, CORN SYRUP SOLIDS, VEGETABLE OIL (PARTI...   \n",
              "1  peanuts, dextrose hydrogenated vegetable oil (...   \n",
              "2  Cooked Chicken Breast (26%) Cooked Pilau Rice ...   \n",
              "3  Azucar (Maltodextrina), Cacao en polvo, Emulsi...   \n",
              "4  _Almond flour_*, golden linseed flour*, pumpki...   \n",
              "5  Wholegrain oats 75%, apples 10,8%, date powder...   \n",
              "6  pearl _barley_ (25%), haricot beans (14%), yel...   \n",
              "7  Chickpeas, Water, Antioxidant (_Sodium Metabis...   \n",
              "8  Butter Beans 60%, Water, Firming Agent (Calciu...   \n",
              "9  potato (97%), sunflower oil, fortified wheat f...   \n",
              "\n",
              "                                     allergens  \\\n",
              "0               en:milk,en:soybeans,en:COCONUT   \n",
              "1                                   en:peanuts   \n",
              "2                                      en:milk   \n",
              "3                                  en:soybeans   \n",
              "4  en:nuts,en:Almond flour,en:egg white powder   \n",
              "5                                    en:gluten   \n",
              "6                                    en:gluten   \n",
              "7                     en:Sodium Metabisulphite   \n",
              "8             en:sulphur-dioxide-and-sulphites   \n",
              "9                                    en:gluten   \n",
              "\n",
              "                               image_ingredients_url  \\\n",
              "0  https://images.openfoodfacts.org/images/produc...   \n",
              "1  https://images.openfoodfacts.org/images/produc...   \n",
              "2  https://images.openfoodfacts.org/images/produc...   \n",
              "3  https://images.openfoodfacts.org/images/produc...   \n",
              "4  https://images.openfoodfacts.org/images/produc...   \n",
              "5  https://images.openfoodfacts.org/images/produc...   \n",
              "6  https://images.openfoodfacts.org/images/produc...   \n",
              "7  https://images.openfoodfacts.org/images/produc...   \n",
              "8  https://images.openfoodfacts.org/images/produc...   \n",
              "9  https://images.openfoodfacts.org/images/produc...   \n",
              "\n",
              "                                 image_nutrition_url  fat_100g  \\\n",
              "0  https://images.openfoodfacts.org/images/produc...      10.0   \n",
              "1  https://images.openfoodfacts.org/images/produc...     280.0   \n",
              "2  https://images.openfoodfacts.org/images/produc...       3.0   \n",
              "3  https://images.openfoodfacts.org/images/produc...       0.0   \n",
              "4  https://images.openfoodfacts.org/images/produc...       1.8   \n",
              "5  https://images.openfoodfacts.org/images/produc...       5.8   \n",
              "6  https://images.openfoodfacts.org/images/produc...       1.0   \n",
              "7  https://images.openfoodfacts.org/images/produc...       2.2   \n",
              "8  https://images.openfoodfacts.org/images/produc...       0.5   \n",
              "9  https://images.openfoodfacts.org/images/produc...       2.0   \n",
              "\n",
              "   saturated_fat_100g  sugars_100g  salt_100g  nutriscore_score  \\\n",
              "0                 7.5         60.0     2.3750              30.0   \n",
              "1               200.0         60.0    32.0000              40.0   \n",
              "2                 1.0          1.2     0.4500              -7.0   \n",
              "3                 0.0         80.0     0.0375              31.0   \n",
              "4                 0.4          1.2     0.3800              -8.0   \n",
              "5                 1.0         16.5     0.0100              -8.0   \n",
              "6                 0.2          0.2     0.0300              -8.0   \n",
              "7                 0.3          0.0     0.0200              -8.0   \n",
              "8                 0.0          0.0     0.0500             -13.0   \n",
              "9                 0.2          0.4     0.1900              -8.0   \n",
              "\n",
              "  nutriscore_grade  \n",
              "0                e  \n",
              "1                e  \n",
              "2                a  \n",
              "3                e  \n",
              "4                a  \n",
              "5                a  \n",
              "6                a  \n",
              "7                a  \n",
              "8                a  \n",
              "9                a  "
            ],
            "text/html": [
              "\n",
              "  <div id=\"df-fa58cc6d-e4e7-4f29-8730-6fb495168ee5\">\n",
              "    <div class=\"colab-df-container\">\n",
              "      <div>\n",
              "<style scoped>\n",
              "    .dataframe tbody tr th:only-of-type {\n",
              "        vertical-align: middle;\n",
              "    }\n",
              "\n",
              "    .dataframe tbody tr th {\n",
              "        vertical-align: top;\n",
              "    }\n",
              "\n",
              "    .dataframe thead th {\n",
              "        text-align: right;\n",
              "    }\n",
              "</style>\n",
              "<table border=\"1\" class=\"dataframe\">\n",
              "  <thead>\n",
              "    <tr style=\"text-align: right;\">\n",
              "      <th></th>\n",
              "      <th>ingredients_text</th>\n",
              "      <th>allergens</th>\n",
              "      <th>image_ingredients_url</th>\n",
              "      <th>image_nutrition_url</th>\n",
              "      <th>fat_100g</th>\n",
              "      <th>saturated_fat_100g</th>\n",
              "      <th>sugars_100g</th>\n",
              "      <th>salt_100g</th>\n",
              "      <th>nutriscore_score</th>\n",
              "      <th>nutriscore_grade</th>\n",
              "    </tr>\n",
              "  </thead>\n",
              "  <tbody>\n",
              "    <tr>\n",
              "      <th>0</th>\n",
              "      <td>SUGAR, CORN SYRUP SOLIDS, VEGETABLE OIL (PARTI...</td>\n",
              "      <td>en:milk,en:soybeans,en:COCONUT</td>\n",
              "      <td>https://images.openfoodfacts.org/images/produc...</td>\n",
              "      <td>https://images.openfoodfacts.org/images/produc...</td>\n",
              "      <td>10.0</td>\n",
              "      <td>7.5</td>\n",
              "      <td>60.0</td>\n",
              "      <td>2.3750</td>\n",
              "      <td>30.0</td>\n",
              "      <td>e</td>\n",
              "    </tr>\n",
              "    <tr>\n",
              "      <th>1</th>\n",
              "      <td>peanuts, dextrose hydrogenated vegetable oil (...</td>\n",
              "      <td>en:peanuts</td>\n",
              "      <td>https://images.openfoodfacts.org/images/produc...</td>\n",
              "      <td>https://images.openfoodfacts.org/images/produc...</td>\n",
              "      <td>280.0</td>\n",
              "      <td>200.0</td>\n",
              "      <td>60.0</td>\n",
              "      <td>32.0000</td>\n",
              "      <td>40.0</td>\n",
              "      <td>e</td>\n",
              "    </tr>\n",
              "    <tr>\n",
              "      <th>2</th>\n",
              "      <td>Cooked Chicken Breast (26%) Cooked Pilau Rice ...</td>\n",
              "      <td>en:milk</td>\n",
              "      <td>https://images.openfoodfacts.org/images/produc...</td>\n",
              "      <td>https://images.openfoodfacts.org/images/produc...</td>\n",
              "      <td>3.0</td>\n",
              "      <td>1.0</td>\n",
              "      <td>1.2</td>\n",
              "      <td>0.4500</td>\n",
              "      <td>-7.0</td>\n",
              "      <td>a</td>\n",
              "    </tr>\n",
              "    <tr>\n",
              "      <th>3</th>\n",
              "      <td>Azucar (Maltodextrina), Cacao en polvo, Emulsi...</td>\n",
              "      <td>en:soybeans</td>\n",
              "      <td>https://images.openfoodfacts.org/images/produc...</td>\n",
              "      <td>https://images.openfoodfacts.org/images/produc...</td>\n",
              "      <td>0.0</td>\n",
              "      <td>0.0</td>\n",
              "      <td>80.0</td>\n",
              "      <td>0.0375</td>\n",
              "      <td>31.0</td>\n",
              "      <td>e</td>\n",
              "    </tr>\n",
              "    <tr>\n",
              "      <th>4</th>\n",
              "      <td>_Almond flour_*, golden linseed flour*, pumpki...</td>\n",
              "      <td>en:nuts,en:Almond flour,en:egg white powder</td>\n",
              "      <td>https://images.openfoodfacts.org/images/produc...</td>\n",
              "      <td>https://images.openfoodfacts.org/images/produc...</td>\n",
              "      <td>1.8</td>\n",
              "      <td>0.4</td>\n",
              "      <td>1.2</td>\n",
              "      <td>0.3800</td>\n",
              "      <td>-8.0</td>\n",
              "      <td>a</td>\n",
              "    </tr>\n",
              "    <tr>\n",
              "      <th>5</th>\n",
              "      <td>Wholegrain oats 75%, apples 10,8%, date powder...</td>\n",
              "      <td>en:gluten</td>\n",
              "      <td>https://images.openfoodfacts.org/images/produc...</td>\n",
              "      <td>https://images.openfoodfacts.org/images/produc...</td>\n",
              "      <td>5.8</td>\n",
              "      <td>1.0</td>\n",
              "      <td>16.5</td>\n",
              "      <td>0.0100</td>\n",
              "      <td>-8.0</td>\n",
              "      <td>a</td>\n",
              "    </tr>\n",
              "    <tr>\n",
              "      <th>6</th>\n",
              "      <td>pearl _barley_ (25%), haricot beans (14%), yel...</td>\n",
              "      <td>en:gluten</td>\n",
              "      <td>https://images.openfoodfacts.org/images/produc...</td>\n",
              "      <td>https://images.openfoodfacts.org/images/produc...</td>\n",
              "      <td>1.0</td>\n",
              "      <td>0.2</td>\n",
              "      <td>0.2</td>\n",
              "      <td>0.0300</td>\n",
              "      <td>-8.0</td>\n",
              "      <td>a</td>\n",
              "    </tr>\n",
              "    <tr>\n",
              "      <th>7</th>\n",
              "      <td>Chickpeas, Water, Antioxidant (_Sodium Metabis...</td>\n",
              "      <td>en:Sodium Metabisulphite</td>\n",
              "      <td>https://images.openfoodfacts.org/images/produc...</td>\n",
              "      <td>https://images.openfoodfacts.org/images/produc...</td>\n",
              "      <td>2.2</td>\n",
              "      <td>0.3</td>\n",
              "      <td>0.0</td>\n",
              "      <td>0.0200</td>\n",
              "      <td>-8.0</td>\n",
              "      <td>a</td>\n",
              "    </tr>\n",
              "    <tr>\n",
              "      <th>8</th>\n",
              "      <td>Butter Beans 60%, Water, Firming Agent (Calciu...</td>\n",
              "      <td>en:sulphur-dioxide-and-sulphites</td>\n",
              "      <td>https://images.openfoodfacts.org/images/produc...</td>\n",
              "      <td>https://images.openfoodfacts.org/images/produc...</td>\n",
              "      <td>0.5</td>\n",
              "      <td>0.0</td>\n",
              "      <td>0.0</td>\n",
              "      <td>0.0500</td>\n",
              "      <td>-13.0</td>\n",
              "      <td>a</td>\n",
              "    </tr>\n",
              "    <tr>\n",
              "      <th>9</th>\n",
              "      <td>potato (97%), sunflower oil, fortified wheat f...</td>\n",
              "      <td>en:gluten</td>\n",
              "      <td>https://images.openfoodfacts.org/images/produc...</td>\n",
              "      <td>https://images.openfoodfacts.org/images/produc...</td>\n",
              "      <td>2.0</td>\n",
              "      <td>0.2</td>\n",
              "      <td>0.4</td>\n",
              "      <td>0.1900</td>\n",
              "      <td>-8.0</td>\n",
              "      <td>a</td>\n",
              "    </tr>\n",
              "  </tbody>\n",
              "</table>\n",
              "</div>\n",
              "      <button class=\"colab-df-convert\" onclick=\"convertToInteractive('df-fa58cc6d-e4e7-4f29-8730-6fb495168ee5')\"\n",
              "              title=\"Convert this dataframe to an interactive table.\"\n",
              "              style=\"display:none;\">\n",
              "        \n",
              "  <svg xmlns=\"http://www.w3.org/2000/svg\" height=\"24px\"viewBox=\"0 0 24 24\"\n",
              "       width=\"24px\">\n",
              "    <path d=\"M0 0h24v24H0V0z\" fill=\"none\"/>\n",
              "    <path d=\"M18.56 5.44l.94 2.06.94-2.06 2.06-.94-2.06-.94-.94-2.06-.94 2.06-2.06.94zm-11 1L8.5 8.5l.94-2.06 2.06-.94-2.06-.94L8.5 2.5l-.94 2.06-2.06.94zm10 10l.94 2.06.94-2.06 2.06-.94-2.06-.94-.94-2.06-.94 2.06-2.06.94z\"/><path d=\"M17.41 7.96l-1.37-1.37c-.4-.4-.92-.59-1.43-.59-.52 0-1.04.2-1.43.59L10.3 9.45l-7.72 7.72c-.78.78-.78 2.05 0 2.83L4 21.41c.39.39.9.59 1.41.59.51 0 1.02-.2 1.41-.59l7.78-7.78 2.81-2.81c.8-.78.8-2.07 0-2.86zM5.41 20L4 18.59l7.72-7.72 1.47 1.35L5.41 20z\"/>\n",
              "  </svg>\n",
              "      </button>\n",
              "      \n",
              "  <style>\n",
              "    .colab-df-container {\n",
              "      display:flex;\n",
              "      flex-wrap:wrap;\n",
              "      gap: 12px;\n",
              "    }\n",
              "\n",
              "    .colab-df-convert {\n",
              "      background-color: #E8F0FE;\n",
              "      border: none;\n",
              "      border-radius: 50%;\n",
              "      cursor: pointer;\n",
              "      display: none;\n",
              "      fill: #1967D2;\n",
              "      height: 32px;\n",
              "      padding: 0 0 0 0;\n",
              "      width: 32px;\n",
              "    }\n",
              "\n",
              "    .colab-df-convert:hover {\n",
              "      background-color: #E2EBFA;\n",
              "      box-shadow: 0px 1px 2px rgba(60, 64, 67, 0.3), 0px 1px 3px 1px rgba(60, 64, 67, 0.15);\n",
              "      fill: #174EA6;\n",
              "    }\n",
              "\n",
              "    [theme=dark] .colab-df-convert {\n",
              "      background-color: #3B4455;\n",
              "      fill: #D2E3FC;\n",
              "    }\n",
              "\n",
              "    [theme=dark] .colab-df-convert:hover {\n",
              "      background-color: #434B5C;\n",
              "      box-shadow: 0px 1px 3px 1px rgba(0, 0, 0, 0.15);\n",
              "      filter: drop-shadow(0px 1px 2px rgba(0, 0, 0, 0.3));\n",
              "      fill: #FFFFFF;\n",
              "    }\n",
              "  </style>\n",
              "\n",
              "      <script>\n",
              "        const buttonEl =\n",
              "          document.querySelector('#df-fa58cc6d-e4e7-4f29-8730-6fb495168ee5 button.colab-df-convert');\n",
              "        buttonEl.style.display =\n",
              "          google.colab.kernel.accessAllowed ? 'block' : 'none';\n",
              "\n",
              "        async function convertToInteractive(key) {\n",
              "          const element = document.querySelector('#df-fa58cc6d-e4e7-4f29-8730-6fb495168ee5');\n",
              "          const dataTable =\n",
              "            await google.colab.kernel.invokeFunction('convertToInteractive',\n",
              "                                                     [key], {});\n",
              "          if (!dataTable) return;\n",
              "\n",
              "          const docLinkHtml = 'Like what you see? Visit the ' +\n",
              "            '<a target=\"_blank\" href=https://colab.research.google.com/notebooks/data_table.ipynb>data table notebook</a>'\n",
              "            + ' to learn more about interactive tables.';\n",
              "          element.innerHTML = '';\n",
              "          dataTable['output_type'] = 'display_data';\n",
              "          await google.colab.output.renderOutput(dataTable, element);\n",
              "          const docLink = document.createElement('div');\n",
              "          docLink.innerHTML = docLinkHtml;\n",
              "          element.appendChild(docLink);\n",
              "        }\n",
              "      </script>\n",
              "    </div>\n",
              "  </div>\n",
              "  "
            ]
          },
          "metadata": {},
          "execution_count": 6
        }
      ]
    },
    {
      "cell_type": "code",
      "source": [
        "df.shape"
      ],
      "metadata": {
        "colab": {
          "base_uri": "https://localhost:8080/"
        },
        "id": "x19qzU24nJdv",
        "outputId": "372dd31c-25a5-4625-cdf1-33c1e7623823"
      },
      "execution_count": null,
      "outputs": [
        {
          "output_type": "execute_result",
          "data": {
            "text/plain": [
              "(8053, 10)"
            ]
          },
          "metadata": {},
          "execution_count": 7
        }
      ]
    },
    {
      "cell_type": "code",
      "source": [
        "df.isna().sum()"
      ],
      "metadata": {
        "colab": {
          "base_uri": "https://localhost:8080/"
        },
        "id": "qeNPXOrmmupS",
        "outputId": "53b3006f-701c-4cc2-892c-a43dc93ff6d8"
      },
      "execution_count": null,
      "outputs": [
        {
          "output_type": "execute_result",
          "data": {
            "text/plain": [
              "ingredients_text            0\n",
              "allergens                   0\n",
              "image_ingredients_url       0\n",
              "image_nutrition_url         0\n",
              "fat_100g                  532\n",
              "saturated_fat_100g        614\n",
              "sugars_100g               629\n",
              "salt_100g                 639\n",
              "nutriscore_score         1559\n",
              "nutriscore_grade         1559\n",
              "dtype: int64"
            ]
          },
          "metadata": {},
          "execution_count": 8
        }
      ]
    },
    {
      "cell_type": "code",
      "source": [
        "df = df.dropna()"
      ],
      "metadata": {
        "id": "B2q7k-EOm0zt"
      },
      "execution_count": null,
      "outputs": []
    },
    {
      "cell_type": "code",
      "source": [
        "df.shape"
      ],
      "metadata": {
        "colab": {
          "base_uri": "https://localhost:8080/"
        },
        "id": "ISOKv8xznE6l",
        "outputId": "f873140c-9f4c-4892-d075-d4965df88509"
      },
      "execution_count": null,
      "outputs": [
        {
          "output_type": "execute_result",
          "data": {
            "text/plain": [
              "(6476, 10)"
            ]
          },
          "metadata": {},
          "execution_count": 10
        }
      ]
    },
    {
      "cell_type": "code",
      "source": [
        "def cleanhtml(raw_html):\n",
        "  cleantext = re.sub('<.*?>', ' ', raw_html)\n",
        "  return cleantext\n",
        "\n",
        "def change_to_g(text):\n",
        "    search_ln = re.search(\"\\d\\s|\\d$\", text)\n",
        "    if search_ln and search_ln.group().strip() == \"9\":\n",
        "        index = search_ln.span()[0]\n",
        "        text = text[:index] +\"g\"+ text[index+1:]\n",
        "\n",
        "    search_lnq = re.search(\"\\dmq\\s|\\dmq$\", text)\n",
        "    if search_lnq:\n",
        "        index = search_lnq.span()[0] +2\n",
        "        text = text[:index] +\"g\"+ text[index+1:]\n",
        "    return text\n",
        "\n",
        "def clean_string(string):\n",
        "    pattern = \"[\\|\\*\\_\\'\\—\\-\\{}]\".format('\"')\n",
        "    text = re.sub(pattern, \"\", string)\n",
        "    text = re.sub(\" I \", \" / \", text)\n",
        "    text = re.sub(\"^I \", \"\", text)\n",
        "    text = re.sub(\"Omg\", \"0mg\", text)\n",
        "    text = re.sub(\"Og\", \"0g\", text)\n",
        "    text = re.sub('(?<=\\d) (?=\\w)', '', text)\n",
        "    text = change_to_g(text)\n",
        "    text = text.strip()\n",
        "    return text"
      ],
      "metadata": {
        "id": "7eHbL6soBnhr"
      },
      "execution_count": null,
      "outputs": []
    },
    {
      "cell_type": "code",
      "source": [
        "image = io.imread(df.image_nutrition_url[5])\n",
        "result = table_engine(image)\n",
        "temp = result[0]['res']['html']"
      ],
      "metadata": {
        "colab": {
          "base_uri": "https://localhost:8080/"
        },
        "id": "aAbzo30x89fP",
        "outputId": "b944e8f2-0ee3-421f-f8cd-2d1d5b0473c7"
      },
      "execution_count": null,
      "outputs": [
        {
          "output_type": "stream",
          "name": "stdout",
          "text": [
            "[2022/09/05 18:43:38] ppocr DEBUG: dt_boxes num : 30, elapse : 0.13033175468444824\n",
            "[2022/09/05 18:43:40] ppocr DEBUG: rec_res num  : 30, elapse : 2.8025543689727783\n"
          ]
        }
      ]
    },
    {
      "cell_type": "code",
      "source": [
        "def check_for_label(text, words):\n",
        "    # text = text.lower()\n",
        "    for i in range(len(text)):\n",
        "        if any(text[i:].startswith(word) for word in words):\n",
        "            return True\n",
        "    return False\n",
        "\n",
        "check_for_label(temp, 'Salt')"
      ],
      "metadata": {
        "colab": {
          "base_uri": "https://localhost:8080/"
        },
        "id": "GKh7HI9Y9MoK",
        "outputId": "a605df96-654b-4efb-e695-a1bad967183c"
      },
      "execution_count": null,
      "outputs": [
        {
          "output_type": "execute_result",
          "data": {
            "text/plain": [
              "True"
            ]
          },
          "metadata": {},
          "execution_count": 58
        }
      ]
    },
    {
      "cell_type": "code",
      "source": [
        "def get_label_from_string(string):\n",
        "    label_arr = re.findall(\"([A-Z][a-zA-Z]*)\", string)\n",
        "    label_name = \"\"\n",
        "    label_value = \"\"\n",
        "\n",
        "    if len(label_arr) == 0:\n",
        "        label_name = \"|\"+string+'|'\n",
        "    elif len(label_arr) == 1:\n",
        "        label_name = label_arr[0]\n",
        "    else:\n",
        "        label_name = label_arr[0] + ' ' + label_arr[1]\n",
        "\n",
        "    digit_pattern = \"[-+]?\\d*\\.\\d+g|\\d+\"\n",
        "    value_arr = re.findall(\"{0}g|{0}%|{0}J|{0}kJ|{0}mg|{0}kcal\".format(digit_pattern), string)\n",
        "    # print(value_arr)\n",
        "    if len(value_arr):\n",
        "        label_value = value_arr[0]\n",
        "    else:\n",
        "        label_value = \"|\"+string+'|'\n",
        "    return label_name, label_value"
      ],
      "metadata": {
        "id": "OZdHeofP9ePP"
      },
      "execution_count": null,
      "outputs": []
    },
    {
      "cell_type": "code",
      "source": [
        "get_label_from_string(temp)"
      ],
      "metadata": {
        "colab": {
          "base_uri": "https://localhost:8080/"
        },
        "id": "Y0V2cL4nxNpe",
        "outputId": "a9a40671-edb4-46c8-b97f-714132ab037c"
      },
      "execution_count": null,
      "outputs": [
        {
          "output_type": "execute_result",
          "data": {
            "text/plain": [
              "('NUTRITIONAL INFORMATION', '17g')"
            ]
          },
          "metadata": {},
          "execution_count": 58
        }
      ]
    },
    {
      "cell_type": "code",
      "source": [
        "temp"
      ],
      "metadata": {
        "id": "JdAZ8TCWx-gM",
        "outputId": "c6215440-b482-406e-de86-ea63569ace03",
        "colab": {
          "base_uri": "https://localhost:8080/",
          "height": 70
        }
      },
      "execution_count": null,
      "outputs": [
        {
          "output_type": "execute_result",
          "data": {
            "text/plain": [
              "'NUTRITIONAL INFORMATION Serves per package:1 Quantity Quantity Unnamed: 1 Unnamed: 2 Serving size:500mL Energy per serving 1650kj 17g per100mL 330KProtein Fat-Total -Saturated Carbohydrate -Total Sugars* -Lactose Sodium Caffeine *Totalsugarsincludelactose. 18.5g 12.5g 40g 36g 20.5g 160mg 180mg 3.4g 3.7g 2.5g 8g 7.2g 4.1g 32mg 36mg'"
            ],
            "application/vnd.google.colaboratory.intrinsic+json": {
              "type": "string"
            }
          },
          "metadata": {},
          "execution_count": 59
        }
      ]
    },
    {
      "cell_type": "code",
      "source": [
        "save_folder = './output/'\n",
        "img_path = df.image_nutrition_url[40]\n",
        "img = io.imread(df.image_nutrition_url[40])\n",
        "result = table_engine(img)\n",
        "save_structure_res(result, save_folder, os.path.basename(img_path).split('.')[0])\n",
        "path = save_folder+os.path.basename(img_path).split('.')[0]\n",
        "filename = os.listdir(path)[0]\n",
        "ex = pd.read_excel(path+'/'+filename)\n",
        "text=ex.to_string(index=False).replace(\"\\n\", \"\")\n",
        "text=\" \".join(text.split())\n",
        "shutil.rmtree(path, ignore_errors=True)\n",
        "temp = change_to_g(text)"
      ],
      "metadata": {
        "colab": {
          "base_uri": "https://localhost:8080/"
        },
        "id": "3B-4aARpxAAa",
        "outputId": "44121806-5b05-44bd-8855-1b5ea1c57e63"
      },
      "execution_count": null,
      "outputs": [
        {
          "output_type": "stream",
          "name": "stdout",
          "text": [
            "[2022/09/06 12:27:02] ppocr DEBUG: dt_boxes num : 35, elapse : 0.11729192733764648\n",
            "[2022/09/06 12:27:05] ppocr DEBUG: rec_res num  : 35, elapse : 2.9282584190368652\n"
          ]
        }
      ]
    },
    {
      "cell_type": "code",
      "source": [
        "import shutil"
      ],
      "metadata": {
        "id": "S2GoubDguz48"
      },
      "execution_count": null,
      "outputs": []
    },
    {
      "cell_type": "code",
      "source": [
        "table_engine = PPStructure(layout=False, show_log=True)\n"
      ],
      "metadata": {
        "colab": {
          "base_uri": "https://localhost:8080/"
        },
        "id": "SY-XGI1FEr0c",
        "outputId": "dd7bc830-4b12-4805-e327-9e5756c8a3cb"
      },
      "execution_count": null,
      "outputs": [
        {
          "output_type": "stream",
          "name": "stdout",
          "text": [
            "[2022/09/06 12:17:09] ppocr DEBUG: Namespace(alpha=1.0, benchmark=False, beta=1.0, cls_batch_num=6, cls_image_shape='3, 48, 192', cls_model_dir=None, cls_thresh=0.9, cpu_threads=10, crop_res_save_dir='./output', det=True, det_algorithm='DB', det_db_box_thresh=0.6, det_db_score_mode='fast', det_db_thresh=0.3, det_db_unclip_ratio=1.5, det_east_cover_thresh=0.1, det_east_nms_thresh=0.2, det_east_score_thresh=0.8, det_fce_box_type='poly', det_limit_side_len=960, det_limit_type='max', det_model_dir='/root/.paddleocr/whl/det/ch/ch_PP-OCRv3_det_infer', det_pse_box_thresh=0.85, det_pse_box_type='quad', det_pse_min_area=16, det_pse_scale=1, det_pse_thresh=0, det_sast_nms_thresh=0.2, det_sast_polygon=False, det_sast_score_thresh=0.5, draw_img_save_dir='./inference_results', drop_score=0.5, e2e_algorithm='PGNet', e2e_char_dict_path='./ppocr/utils/ic15_dict.txt', e2e_limit_side_len=768, e2e_limit_type='max', e2e_model_dir=None, e2e_pgnet_mode='fast', e2e_pgnet_score_thresh=0.5, e2e_pgnet_valid_set='totaltext', enable_mkldnn=False, fourier_degree=5, gpu_mem=500, help='==SUPPRESS==', image_dir=None, image_orientation=False, ir_optim=True, kie_algorithm='LayoutXLM', label_list=['0', '180'], lang='ch', layout=False, layout_dict_path='/usr/local/lib/python3.7/dist-packages/paddleocr/ppocr/utils/dict/layout_dict/layout_cdla_dict.txt', layout_model_dir='/root/.paddleocr/whl/layout/picodet_lcnet_x1_0_fgd_layout_cdla_infer', layout_nms_threshold=0.5, layout_score_threshold=0.5, max_batch_size=10, max_text_length=25, merge_no_span_structure=True, min_subgraph_size=15, mode='structure', ocr=True, ocr_order_method=None, ocr_version='PP-OCRv3', output='./output', precision='fp32', process_id=0, rec=True, rec_algorithm='SVTR_LCNet', rec_batch_num=6, rec_char_dict_path='/usr/local/lib/python3.7/dist-packages/paddleocr/ppocr/utils/ppocr_keys_v1.txt', rec_image_shape='3, 48, 320', rec_model_dir='/root/.paddleocr/whl/rec/ch/ch_PP-OCRv3_rec_infer', recovery=False, save_crop_res=False, save_log_path='./log_output/', save_pdf=False, scales=[8, 16, 32], ser_dict_path='../train_data/XFUND/class_list_xfun.txt', ser_model_dir=None, shape_info_filename=None, show_log=True, sr_batch_num=1, sr_image_shape='3, 32, 128', sr_model_dir=None, structure_version='PP-Structurev2', table=True, table_algorithm='TableAttn', table_char_dict_path='/usr/local/lib/python3.7/dist-packages/paddleocr/ppocr/utils/dict/table_structure_dict_ch.txt', table_max_len=488, table_model_dir='/root/.paddleocr/whl/table/ch_ppstructure_mobile_v2.0_SLANet_infer', total_process_num=1, type='ocr', use_angle_cls=False, use_dilation=False, use_gpu=False, use_mp=False, use_onnx=False, use_pdserving=False, use_space_char=True, use_tensorrt=False, use_xpu=False, vis_font_path='./doc/fonts/simfang.ttf', warmup=False)\n",
            "[2022/09/06 12:17:09] ppocr WARNING: When args.layout is false, args.ocr is automatically set to false\n",
            "[2022/09/06 12:17:12] ppocr DEBUG: dt_boxes num : 18, elapse : 0.1039426326751709\n",
            "[2022/09/06 12:17:14] ppocr DEBUG: rec_res num  : 18, elapse : 1.7475147247314453\n"
          ]
        }
      ]
    },
    {
      "cell_type": "code",
      "source": [
        "def extract_nutrients(image_url):\n",
        "  save_folder = './output/'\n",
        "  img_path = image_url\n",
        "  img = io.imread(image_url)\n",
        "  result = table_engine(img)\n",
        "  save_structure_res(result, save_folder, os.path.basename(img_path).split('.')[0])\n",
        "  path = save_folder+os.path.basename(img_path).split('.')[0]\n",
        "  filename = os.listdir(path)[0]\n",
        "  ex = pd.read_excel(path+'/'+filename)\n",
        "  text=ex.to_string(index=False).replace(\"\\n\", \"\")\n",
        "  text=\" \".join(text.split())\n",
        "  shutil.rmtree(path, ignore_errors=True)\n",
        "  temp = change_to_g(text)\n",
        "  fat = re.search('Fat (.+?)g', temp, re.IGNORECASE)\n",
        "  if fat:\n",
        "    int_fat = fat.group(1)\n",
        "  else:\n",
        "    int_fat = 0\n",
        "\n",
        "  sat_fat = re.search('of which Saturates (.+?)g', temp, re.IGNORECASE)\n",
        "  if sat_fat:\n",
        "    int_sat_fat = sat_fat.group(1)\n",
        "  else:\n",
        "    int_sat_fat = 0\n",
        "\n",
        "  sugar = re.search('Sugars (.+?)g', temp, re.IGNORECASE)\n",
        "  if sugar:\n",
        "    int_sugar = sugar.group(1)\n",
        "  else:\n",
        "    int_sugar = 0\n",
        "  \n",
        "  salt = re.search('Salt (.+?)g', temp, re.IGNORECASE)\n",
        "  if salt:\n",
        "    int_salt = salt.group(1)\n",
        "  else:\n",
        "    int_salt = 0\n",
        "\n",
        " \n",
        "  return int_fat, int_sat_fat, int_sugar, int_salt\n"
      ],
      "metadata": {
        "id": "pE5GxoefqNa9"
      },
      "execution_count": null,
      "outputs": []
    },
    {
      "cell_type": "code",
      "source": [
        "fat, sat_fat, sugar, salt= extract_nutrients(df.image_nutrition_url[40])"
      ],
      "metadata": {
        "colab": {
          "base_uri": "https://localhost:8080/"
        },
        "id": "wSvziWQWyb6V",
        "outputId": "3af23426-193d-4299-f492-aa6187b95b82"
      },
      "execution_count": null,
      "outputs": [
        {
          "output_type": "stream",
          "name": "stdout",
          "text": [
            "[2022/09/06 12:24:50] ppocr DEBUG: dt_boxes num : 35, elapse : 0.11949777603149414\n",
            "[2022/09/06 12:24:53] ppocr DEBUG: rec_res num  : 35, elapse : 2.904879331588745\n"
          ]
        }
      ]
    },
    {
      "cell_type": "code",
      "source": [
        "df.image_nutrition_url[40]"
      ],
      "metadata": {
        "colab": {
          "base_uri": "https://localhost:8080/",
          "height": 35
        },
        "id": "0ZJ2NQ5vv8OD",
        "outputId": "06d520cc-f6de-4079-fb6c-e0430ef2ab95"
      },
      "execution_count": null,
      "outputs": [
        {
          "output_type": "execute_result",
          "data": {
            "text/plain": [
              "'https://images.openfoodfacts.org/images/products/933/753/600/0565/nutrition_en.17.400.jpg'"
            ],
            "application/vnd.google.colaboratory.intrinsic+json": {
              "type": "string"
            }
          },
          "metadata": {},
          "execution_count": 55
        }
      ]
    },
    {
      "cell_type": "code",
      "source": [
        "print('Fats', fat)\n",
        "print('Saturated fats', sat_fat)\n",
        "print('Sugar', sugar)\n",
        "print('Salt', salt)"
      ],
      "metadata": {
        "colab": {
          "base_uri": "https://localhost:8080/"
        },
        "id": "lgvSs2kvSv1O",
        "outputId": "68f2c5a3-fded-4bce-bac5-c22a5d687746"
      },
      "execution_count": null,
      "outputs": [
        {
          "output_type": "stream",
          "name": "stdout",
          "text": [
            "Fats 0\n",
            "Saturated fats 0\n",
            "Sugar 0\n",
            "Salt 0\n"
          ]
        }
      ]
    },
    {
      "cell_type": "code",
      "source": [
        "X = df.drop(['ingredients_text', 'allergens','image_ingredients_url',\t'image_nutrition_url', 'nutriscore_score','nutriscore_grade'], axis=1)"
      ],
      "metadata": {
        "id": "PDqjrHtsnGct"
      },
      "execution_count": null,
      "outputs": []
    },
    {
      "cell_type": "code",
      "source": [
        "X.head()"
      ],
      "metadata": {
        "colab": {
          "base_uri": "https://localhost:8080/",
          "height": 206
        },
        "id": "D3D6-4g0nxLw",
        "outputId": "ca587589-071a-4d88-ded4-c5cb58f81139"
      },
      "execution_count": null,
      "outputs": [
        {
          "output_type": "execute_result",
          "data": {
            "text/plain": [
              "   fat_100g  saturated_fat_100g  sugars_100g  salt_100g\n",
              "0      10.0                 7.5         60.0     2.3750\n",
              "1     280.0               200.0         60.0    32.0000\n",
              "2       3.0                 1.0          1.2     0.4500\n",
              "3       0.0                 0.0         80.0     0.0375\n",
              "4       1.8                 0.4          1.2     0.3800"
            ],
            "text/html": [
              "\n",
              "  <div id=\"df-ad437bcd-cbae-48cf-adb4-53dfc0453dc0\">\n",
              "    <div class=\"colab-df-container\">\n",
              "      <div>\n",
              "<style scoped>\n",
              "    .dataframe tbody tr th:only-of-type {\n",
              "        vertical-align: middle;\n",
              "    }\n",
              "\n",
              "    .dataframe tbody tr th {\n",
              "        vertical-align: top;\n",
              "    }\n",
              "\n",
              "    .dataframe thead th {\n",
              "        text-align: right;\n",
              "    }\n",
              "</style>\n",
              "<table border=\"1\" class=\"dataframe\">\n",
              "  <thead>\n",
              "    <tr style=\"text-align: right;\">\n",
              "      <th></th>\n",
              "      <th>fat_100g</th>\n",
              "      <th>saturated_fat_100g</th>\n",
              "      <th>sugars_100g</th>\n",
              "      <th>salt_100g</th>\n",
              "    </tr>\n",
              "  </thead>\n",
              "  <tbody>\n",
              "    <tr>\n",
              "      <th>0</th>\n",
              "      <td>10.0</td>\n",
              "      <td>7.5</td>\n",
              "      <td>60.0</td>\n",
              "      <td>2.3750</td>\n",
              "    </tr>\n",
              "    <tr>\n",
              "      <th>1</th>\n",
              "      <td>280.0</td>\n",
              "      <td>200.0</td>\n",
              "      <td>60.0</td>\n",
              "      <td>32.0000</td>\n",
              "    </tr>\n",
              "    <tr>\n",
              "      <th>2</th>\n",
              "      <td>3.0</td>\n",
              "      <td>1.0</td>\n",
              "      <td>1.2</td>\n",
              "      <td>0.4500</td>\n",
              "    </tr>\n",
              "    <tr>\n",
              "      <th>3</th>\n",
              "      <td>0.0</td>\n",
              "      <td>0.0</td>\n",
              "      <td>80.0</td>\n",
              "      <td>0.0375</td>\n",
              "    </tr>\n",
              "    <tr>\n",
              "      <th>4</th>\n",
              "      <td>1.8</td>\n",
              "      <td>0.4</td>\n",
              "      <td>1.2</td>\n",
              "      <td>0.3800</td>\n",
              "    </tr>\n",
              "  </tbody>\n",
              "</table>\n",
              "</div>\n",
              "      <button class=\"colab-df-convert\" onclick=\"convertToInteractive('df-ad437bcd-cbae-48cf-adb4-53dfc0453dc0')\"\n",
              "              title=\"Convert this dataframe to an interactive table.\"\n",
              "              style=\"display:none;\">\n",
              "        \n",
              "  <svg xmlns=\"http://www.w3.org/2000/svg\" height=\"24px\"viewBox=\"0 0 24 24\"\n",
              "       width=\"24px\">\n",
              "    <path d=\"M0 0h24v24H0V0z\" fill=\"none\"/>\n",
              "    <path d=\"M18.56 5.44l.94 2.06.94-2.06 2.06-.94-2.06-.94-.94-2.06-.94 2.06-2.06.94zm-11 1L8.5 8.5l.94-2.06 2.06-.94-2.06-.94L8.5 2.5l-.94 2.06-2.06.94zm10 10l.94 2.06.94-2.06 2.06-.94-2.06-.94-.94-2.06-.94 2.06-2.06.94z\"/><path d=\"M17.41 7.96l-1.37-1.37c-.4-.4-.92-.59-1.43-.59-.52 0-1.04.2-1.43.59L10.3 9.45l-7.72 7.72c-.78.78-.78 2.05 0 2.83L4 21.41c.39.39.9.59 1.41.59.51 0 1.02-.2 1.41-.59l7.78-7.78 2.81-2.81c.8-.78.8-2.07 0-2.86zM5.41 20L4 18.59l7.72-7.72 1.47 1.35L5.41 20z\"/>\n",
              "  </svg>\n",
              "      </button>\n",
              "      \n",
              "  <style>\n",
              "    .colab-df-container {\n",
              "      display:flex;\n",
              "      flex-wrap:wrap;\n",
              "      gap: 12px;\n",
              "    }\n",
              "\n",
              "    .colab-df-convert {\n",
              "      background-color: #E8F0FE;\n",
              "      border: none;\n",
              "      border-radius: 50%;\n",
              "      cursor: pointer;\n",
              "      display: none;\n",
              "      fill: #1967D2;\n",
              "      height: 32px;\n",
              "      padding: 0 0 0 0;\n",
              "      width: 32px;\n",
              "    }\n",
              "\n",
              "    .colab-df-convert:hover {\n",
              "      background-color: #E2EBFA;\n",
              "      box-shadow: 0px 1px 2px rgba(60, 64, 67, 0.3), 0px 1px 3px 1px rgba(60, 64, 67, 0.15);\n",
              "      fill: #174EA6;\n",
              "    }\n",
              "\n",
              "    [theme=dark] .colab-df-convert {\n",
              "      background-color: #3B4455;\n",
              "      fill: #D2E3FC;\n",
              "    }\n",
              "\n",
              "    [theme=dark] .colab-df-convert:hover {\n",
              "      background-color: #434B5C;\n",
              "      box-shadow: 0px 1px 3px 1px rgba(0, 0, 0, 0.15);\n",
              "      filter: drop-shadow(0px 1px 2px rgba(0, 0, 0, 0.3));\n",
              "      fill: #FFFFFF;\n",
              "    }\n",
              "  </style>\n",
              "\n",
              "      <script>\n",
              "        const buttonEl =\n",
              "          document.querySelector('#df-ad437bcd-cbae-48cf-adb4-53dfc0453dc0 button.colab-df-convert');\n",
              "        buttonEl.style.display =\n",
              "          google.colab.kernel.accessAllowed ? 'block' : 'none';\n",
              "\n",
              "        async function convertToInteractive(key) {\n",
              "          const element = document.querySelector('#df-ad437bcd-cbae-48cf-adb4-53dfc0453dc0');\n",
              "          const dataTable =\n",
              "            await google.colab.kernel.invokeFunction('convertToInteractive',\n",
              "                                                     [key], {});\n",
              "          if (!dataTable) return;\n",
              "\n",
              "          const docLinkHtml = 'Like what you see? Visit the ' +\n",
              "            '<a target=\"_blank\" href=https://colab.research.google.com/notebooks/data_table.ipynb>data table notebook</a>'\n",
              "            + ' to learn more about interactive tables.';\n",
              "          element.innerHTML = '';\n",
              "          dataTable['output_type'] = 'display_data';\n",
              "          await google.colab.output.renderOutput(dataTable, element);\n",
              "          const docLink = document.createElement('div');\n",
              "          docLink.innerHTML = docLinkHtml;\n",
              "          element.appendChild(docLink);\n",
              "        }\n",
              "      </script>\n",
              "    </div>\n",
              "  </div>\n",
              "  "
            ]
          },
          "metadata": {},
          "execution_count": 23
        }
      ]
    },
    {
      "cell_type": "code",
      "source": [
        "y_score = df.nutriscore_score\n",
        "y_grade =\tdf.nutriscore_grade\n",
        "classes = len(list(y_grade.unique()))\n",
        "le = LabelEncoder()\n",
        "y_grade = le.fit_transform(y_grade)\n",
        "scaler = StandardScaler()\n",
        "X = scaler.fit_transform(X)\n",
        "n_features=X.shape[1]"
      ],
      "metadata": {
        "id": "a9Ku5IC2nyy5"
      },
      "execution_count": null,
      "outputs": []
    },
    {
      "cell_type": "code",
      "source": [
        "X_train, X_test, y_train_score, y_test_score, y_train_grade, y_test_grade = train_test_split(X, y_score, y_grade, test_size=0.33, random_state=1)"
      ],
      "metadata": {
        "id": "1pvFWQFMtWQG"
      },
      "execution_count": null,
      "outputs": []
    },
    {
      "cell_type": "code",
      "source": [
        "input = Input(shape=(n_features,))\n",
        "x = Dense(400, activation='relu', kernel_initializer='he_normal')(input)\n",
        "x = Dense(400, activation='relu', kernel_initializer='he_normal')(x)\n",
        "x = Dense(400, activation='relu', kernel_initializer='he_normal')(x)\n",
        "x = Dense(400, activation='relu', kernel_initializer='he_normal')(x)\n",
        "score_out = Dense(1, activation='linear')(x)\n",
        "grade_out = Dense(classes, activation='softmax')(x)\n",
        "model = Model(inputs=input, outputs=[score_out, grade_out])\n",
        "model.compile(loss=['mse','sparse_categorical_crossentropy'], optimizer='adam')\n",
        "plot_model(model, to_file='model.png')\n",
        "model.fit(X_train, [y_train_score,y_train_grade], epochs=150, batch_size=32, verbose=2)"
      ],
      "metadata": {
        "colab": {
          "base_uri": "https://localhost:8080/"
        },
        "id": "NR4e5tQ3sIIJ",
        "outputId": "5f0170c3-7e3a-4ab8-9cf4-81f86ef03844"
      },
      "execution_count": null,
      "outputs": [
        {
          "output_type": "stream",
          "name": "stdout",
          "text": [
            "Epoch 1/150\n",
            "136/136 - 2s - loss: 86.6621 - dense_4_loss: 85.4274 - dense_5_loss: 1.2348 - 2s/epoch - 16ms/step\n",
            "Epoch 2/150\n",
            "136/136 - 1s - loss: 74.0738 - dense_4_loss: 73.0218 - dense_5_loss: 1.0520 - 1s/epoch - 9ms/step\n",
            "Epoch 3/150\n",
            "136/136 - 1s - loss: 61.1882 - dense_4_loss: 60.1603 - dense_5_loss: 1.0279 - 1s/epoch - 10ms/step\n",
            "Epoch 4/150\n",
            "136/136 - 1s - loss: 41.8380 - dense_4_loss: 40.8207 - dense_5_loss: 1.0173 - 1s/epoch - 8ms/step\n",
            "Epoch 5/150\n",
            "136/136 - 1s - loss: 22.3607 - dense_4_loss: 21.4316 - dense_5_loss: 0.9291 - 1s/epoch - 8ms/step\n",
            "Epoch 6/150\n",
            "136/136 - 1s - loss: 24.4237 - dense_4_loss: 23.5318 - dense_5_loss: 0.8919 - 1s/epoch - 8ms/step\n",
            "Epoch 7/150\n",
            "136/136 - 1s - loss: 32.6612 - dense_4_loss: 31.7591 - dense_5_loss: 0.9021 - 1s/epoch - 8ms/step\n",
            "Epoch 8/150\n",
            "136/136 - 1s - loss: 17.9707 - dense_4_loss: 17.1078 - dense_5_loss: 0.8629 - 1s/epoch - 8ms/step\n",
            "Epoch 9/150\n",
            "136/136 - 1s - loss: 18.2736 - dense_4_loss: 17.4171 - dense_5_loss: 0.8565 - 993ms/epoch - 7ms/step\n",
            "Epoch 10/150\n",
            "136/136 - 1s - loss: 15.6040 - dense_4_loss: 14.7963 - dense_5_loss: 0.8077 - 975ms/epoch - 7ms/step\n",
            "Epoch 11/150\n",
            "136/136 - 1s - loss: 14.0141 - dense_4_loss: 13.2194 - dense_5_loss: 0.7948 - 1s/epoch - 8ms/step\n",
            "Epoch 12/150\n",
            "136/136 - 1s - loss: 13.8809 - dense_4_loss: 13.1026 - dense_5_loss: 0.7783 - 1s/epoch - 8ms/step\n",
            "Epoch 13/150\n",
            "136/136 - 2s - loss: 13.2181 - dense_4_loss: 12.4493 - dense_5_loss: 0.7689 - 2s/epoch - 12ms/step\n",
            "Epoch 14/150\n",
            "136/136 - 1s - loss: 12.7269 - dense_4_loss: 11.9734 - dense_5_loss: 0.7535 - 1s/epoch - 10ms/step\n",
            "Epoch 15/150\n",
            "136/136 - 1s - loss: 12.7126 - dense_4_loss: 11.9604 - dense_5_loss: 0.7521 - 1s/epoch - 8ms/step\n",
            "Epoch 16/150\n",
            "136/136 - 1s - loss: 12.8542 - dense_4_loss: 12.1067 - dense_5_loss: 0.7475 - 1s/epoch - 8ms/step\n",
            "Epoch 17/150\n",
            "136/136 - 1s - loss: 12.7156 - dense_4_loss: 11.9704 - dense_5_loss: 0.7452 - 1s/epoch - 8ms/step\n",
            "Epoch 18/150\n",
            "136/136 - 1s - loss: 12.3207 - dense_4_loss: 11.5921 - dense_5_loss: 0.7286 - 1s/epoch - 8ms/step\n",
            "Epoch 19/150\n",
            "136/136 - 1s - loss: 11.9718 - dense_4_loss: 11.2496 - dense_5_loss: 0.7222 - 992ms/epoch - 7ms/step\n",
            "Epoch 20/150\n",
            "136/136 - 1s - loss: 12.5261 - dense_4_loss: 11.7985 - dense_5_loss: 0.7275 - 1s/epoch - 8ms/step\n",
            "Epoch 21/150\n",
            "136/136 - 1s - loss: 11.4108 - dense_4_loss: 10.6969 - dense_5_loss: 0.7139 - 1s/epoch - 7ms/step\n",
            "Epoch 22/150\n",
            "136/136 - 1s - loss: 11.9582 - dense_4_loss: 11.2416 - dense_5_loss: 0.7166 - 1s/epoch - 7ms/step\n",
            "Epoch 23/150\n",
            "136/136 - 1s - loss: 17.0856 - dense_4_loss: 16.3150 - dense_5_loss: 0.7706 - 1s/epoch - 7ms/step\n",
            "Epoch 24/150\n",
            "136/136 - 1s - loss: 12.3966 - dense_4_loss: 11.6584 - dense_5_loss: 0.7382 - 1s/epoch - 8ms/step\n",
            "Epoch 25/150\n",
            "136/136 - 1s - loss: 11.8482 - dense_4_loss: 11.1217 - dense_5_loss: 0.7265 - 1s/epoch - 10ms/step\n",
            "Epoch 26/150\n",
            "136/136 - 1s - loss: 11.4783 - dense_4_loss: 10.7646 - dense_5_loss: 0.7138 - 1s/epoch - 7ms/step\n",
            "Epoch 27/150\n",
            "136/136 - 1s - loss: 11.7756 - dense_4_loss: 11.0556 - dense_5_loss: 0.7200 - 1s/epoch - 8ms/step\n",
            "Epoch 28/150\n",
            "136/136 - 1s - loss: 15.5621 - dense_4_loss: 14.8062 - dense_5_loss: 0.7559 - 1s/epoch - 8ms/step\n",
            "Epoch 29/150\n",
            "136/136 - 1s - loss: 12.4862 - dense_4_loss: 11.7519 - dense_5_loss: 0.7343 - 1s/epoch - 8ms/step\n",
            "Epoch 30/150\n",
            "136/136 - 1s - loss: 11.8770 - dense_4_loss: 11.1628 - dense_5_loss: 0.7142 - 1s/epoch - 8ms/step\n",
            "Epoch 31/150\n",
            "136/136 - 1s - loss: 11.7057 - dense_4_loss: 10.9790 - dense_5_loss: 0.7266 - 1s/epoch - 8ms/step\n",
            "Epoch 32/150\n",
            "136/136 - 1s - loss: 11.7676 - dense_4_loss: 11.0493 - dense_5_loss: 0.7183 - 1s/epoch - 8ms/step\n",
            "Epoch 33/150\n",
            "136/136 - 1s - loss: 11.5119 - dense_4_loss: 10.8058 - dense_5_loss: 0.7061 - 1s/epoch - 8ms/step\n",
            "Epoch 34/150\n",
            "136/136 - 1s - loss: 11.2682 - dense_4_loss: 10.5714 - dense_5_loss: 0.6968 - 1s/epoch - 8ms/step\n",
            "Epoch 35/150\n",
            "136/136 - 1s - loss: 11.6088 - dense_4_loss: 10.9073 - dense_5_loss: 0.7015 - 995ms/epoch - 7ms/step\n",
            "Epoch 36/150\n",
            "136/136 - 1s - loss: 11.6131 - dense_4_loss: 10.9182 - dense_5_loss: 0.6948 - 1s/epoch - 7ms/step\n",
            "Epoch 37/150\n",
            "136/136 - 1s - loss: 11.4884 - dense_4_loss: 10.7989 - dense_5_loss: 0.6894 - 1s/epoch - 8ms/step\n",
            "Epoch 38/150\n",
            "136/136 - 1s - loss: 11.4056 - dense_4_loss: 10.7019 - dense_5_loss: 0.7036 - 1s/epoch - 8ms/step\n",
            "Epoch 39/150\n",
            "136/136 - 1s - loss: 10.9000 - dense_4_loss: 10.2144 - dense_5_loss: 0.6855 - 1s/epoch - 8ms/step\n",
            "Epoch 40/150\n",
            "136/136 - 1s - loss: 10.8649 - dense_4_loss: 10.1771 - dense_5_loss: 0.6878 - 1s/epoch - 8ms/step\n",
            "Epoch 41/150\n",
            "136/136 - 1s - loss: 11.0069 - dense_4_loss: 10.3196 - dense_5_loss: 0.6873 - 1s/epoch - 8ms/step\n",
            "Epoch 42/150\n",
            "136/136 - 1s - loss: 11.1712 - dense_4_loss: 10.4781 - dense_5_loss: 0.6931 - 990ms/epoch - 7ms/step\n",
            "Epoch 43/150\n",
            "136/136 - 1s - loss: 10.8063 - dense_4_loss: 10.1270 - dense_5_loss: 0.6794 - 1s/epoch - 7ms/step\n",
            "Epoch 44/150\n",
            "136/136 - 1s - loss: 10.5414 - dense_4_loss: 9.8673 - dense_5_loss: 0.6741 - 1s/epoch - 7ms/step\n",
            "Epoch 45/150\n",
            "136/136 - 1s - loss: 10.9472 - dense_4_loss: 10.2633 - dense_5_loss: 0.6839 - 988ms/epoch - 7ms/step\n",
            "Epoch 46/150\n",
            "136/136 - 1s - loss: 11.1323 - dense_4_loss: 10.4445 - dense_5_loss: 0.6878 - 983ms/epoch - 7ms/step\n",
            "Epoch 47/150\n",
            "136/136 - 1s - loss: 11.1823 - dense_4_loss: 10.4900 - dense_5_loss: 0.6924 - 999ms/epoch - 7ms/step\n",
            "Epoch 48/150\n",
            "136/136 - 1s - loss: 10.7801 - dense_4_loss: 10.1000 - dense_5_loss: 0.6801 - 1s/epoch - 8ms/step\n",
            "Epoch 49/150\n",
            "136/136 - 1s - loss: 10.7829 - dense_4_loss: 10.0965 - dense_5_loss: 0.6864 - 1s/epoch - 10ms/step\n",
            "Epoch 50/150\n",
            "136/136 - 1s - loss: 11.4643 - dense_4_loss: 10.7894 - dense_5_loss: 0.6750 - 1s/epoch - 11ms/step\n",
            "Epoch 51/150\n",
            "136/136 - 1s - loss: 14.8195 - dense_4_loss: 14.1085 - dense_5_loss: 0.7110 - 1s/epoch - 7ms/step\n",
            "Epoch 52/150\n",
            "136/136 - 1s - loss: 11.2443 - dense_4_loss: 10.5610 - dense_5_loss: 0.6833 - 994ms/epoch - 7ms/step\n",
            "Epoch 53/150\n",
            "136/136 - 1s - loss: 11.7281 - dense_4_loss: 11.0312 - dense_5_loss: 0.6968 - 1s/epoch - 7ms/step\n",
            "Epoch 54/150\n",
            "136/136 - 1s - loss: 11.6677 - dense_4_loss: 10.9711 - dense_5_loss: 0.6966 - 1s/epoch - 7ms/step\n",
            "Epoch 55/150\n",
            "136/136 - 1s - loss: 11.6193 - dense_4_loss: 10.9290 - dense_5_loss: 0.6904 - 1s/epoch - 8ms/step\n",
            "Epoch 56/150\n",
            "136/136 - 1s - loss: 10.6061 - dense_4_loss: 9.9354 - dense_5_loss: 0.6707 - 1s/epoch - 7ms/step\n",
            "Epoch 57/150\n",
            "136/136 - 1s - loss: 10.9524 - dense_4_loss: 10.2699 - dense_5_loss: 0.6824 - 1s/epoch - 7ms/step\n",
            "Epoch 58/150\n",
            "136/136 - 1s - loss: 11.2197 - dense_4_loss: 10.5407 - dense_5_loss: 0.6790 - 1s/epoch - 8ms/step\n",
            "Epoch 59/150\n",
            "136/136 - 1s - loss: 10.3700 - dense_4_loss: 9.6906 - dense_5_loss: 0.6793 - 1s/epoch - 8ms/step\n",
            "Epoch 60/150\n",
            "136/136 - 1s - loss: 10.1436 - dense_4_loss: 9.4838 - dense_5_loss: 0.6598 - 1s/epoch - 8ms/step\n",
            "Epoch 61/150\n",
            "136/136 - 1s - loss: 10.6258 - dense_4_loss: 9.9613 - dense_5_loss: 0.6646 - 992ms/epoch - 7ms/step\n",
            "Epoch 62/150\n",
            "136/136 - 1s - loss: 10.6169 - dense_4_loss: 9.9532 - dense_5_loss: 0.6636 - 1s/epoch - 8ms/step\n",
            "Epoch 63/150\n",
            "136/136 - 1s - loss: 10.8209 - dense_4_loss: 10.1563 - dense_5_loss: 0.6646 - 1s/epoch - 8ms/step\n",
            "Epoch 64/150\n",
            "136/136 - 1s - loss: 10.1940 - dense_4_loss: 9.5433 - dense_5_loss: 0.6507 - 1s/epoch - 7ms/step\n",
            "Epoch 65/150\n",
            "136/136 - 1s - loss: 11.0834 - dense_4_loss: 10.4131 - dense_5_loss: 0.6704 - 1s/epoch - 8ms/step\n",
            "Epoch 66/150\n",
            "136/136 - 1s - loss: 10.3921 - dense_4_loss: 9.7273 - dense_5_loss: 0.6648 - 1s/epoch - 8ms/step\n",
            "Epoch 67/150\n",
            "136/136 - 1s - loss: 11.1134 - dense_4_loss: 10.4458 - dense_5_loss: 0.6676 - 1s/epoch - 8ms/step\n",
            "Epoch 68/150\n",
            "136/136 - 1s - loss: 10.4313 - dense_4_loss: 9.7744 - dense_5_loss: 0.6570 - 1s/epoch - 7ms/step\n",
            "Epoch 69/150\n",
            "136/136 - 1s - loss: 10.2469 - dense_4_loss: 9.5890 - dense_5_loss: 0.6579 - 1s/epoch - 8ms/step\n",
            "Epoch 70/150\n",
            "136/136 - 1s - loss: 10.5671 - dense_4_loss: 9.9121 - dense_5_loss: 0.6550 - 1s/epoch - 8ms/step\n",
            "Epoch 71/150\n",
            "136/136 - 1s - loss: 10.5244 - dense_4_loss: 9.8680 - dense_5_loss: 0.6564 - 1s/epoch - 7ms/step\n",
            "Epoch 72/150\n",
            "136/136 - 1s - loss: 10.2388 - dense_4_loss: 9.5869 - dense_5_loss: 0.6519 - 1s/epoch - 10ms/step\n",
            "Epoch 73/150\n",
            "136/136 - 1s - loss: 10.0485 - dense_4_loss: 9.3900 - dense_5_loss: 0.6585 - 1s/epoch - 10ms/step\n",
            "Epoch 74/150\n",
            "136/136 - 1s - loss: 9.9133 - dense_4_loss: 9.2556 - dense_5_loss: 0.6576 - 1s/epoch - 7ms/step\n",
            "Epoch 75/150\n",
            "136/136 - 1s - loss: 9.8815 - dense_4_loss: 9.2512 - dense_5_loss: 0.6302 - 1s/epoch - 8ms/step\n",
            "Epoch 76/150\n",
            "136/136 - 1s - loss: 9.5787 - dense_4_loss: 8.9467 - dense_5_loss: 0.6320 - 1s/epoch - 8ms/step\n",
            "Epoch 77/150\n",
            "136/136 - 1s - loss: 10.1848 - dense_4_loss: 9.5347 - dense_5_loss: 0.6501 - 1s/epoch - 8ms/step\n",
            "Epoch 78/150\n",
            "136/136 - 1s - loss: 9.9743 - dense_4_loss: 9.3300 - dense_5_loss: 0.6443 - 1s/epoch - 8ms/step\n",
            "Epoch 79/150\n",
            "136/136 - 1s - loss: 9.4357 - dense_4_loss: 8.8010 - dense_5_loss: 0.6347 - 1s/epoch - 8ms/step\n",
            "Epoch 80/150\n",
            "136/136 - 1s - loss: 9.3603 - dense_4_loss: 8.7451 - dense_5_loss: 0.6151 - 1s/epoch - 7ms/step\n",
            "Epoch 81/150\n",
            "136/136 - 1s - loss: 10.0319 - dense_4_loss: 9.3866 - dense_5_loss: 0.6454 - 1s/epoch - 8ms/step\n",
            "Epoch 82/150\n",
            "136/136 - 1s - loss: 9.7378 - dense_4_loss: 9.0988 - dense_5_loss: 0.6389 - 1s/epoch - 7ms/step\n",
            "Epoch 83/150\n",
            "136/136 - 1s - loss: 9.4340 - dense_4_loss: 8.8024 - dense_5_loss: 0.6316 - 1s/epoch - 8ms/step\n",
            "Epoch 84/150\n",
            "136/136 - 1s - loss: 9.4067 - dense_4_loss: 8.7784 - dense_5_loss: 0.6283 - 1s/epoch - 8ms/step\n",
            "Epoch 85/150\n",
            "136/136 - 1s - loss: 10.4108 - dense_4_loss: 9.7657 - dense_5_loss: 0.6451 - 1s/epoch - 8ms/step\n",
            "Epoch 86/150\n",
            "136/136 - 1s - loss: 9.7421 - dense_4_loss: 9.1211 - dense_5_loss: 0.6210 - 1s/epoch - 7ms/step\n",
            "Epoch 87/150\n",
            "136/136 - 1s - loss: 9.3693 - dense_4_loss: 8.7478 - dense_5_loss: 0.6215 - 1s/epoch - 8ms/step\n",
            "Epoch 88/150\n",
            "136/136 - 1s - loss: 9.4389 - dense_4_loss: 8.8175 - dense_5_loss: 0.6214 - 1s/epoch - 9ms/step\n",
            "Epoch 89/150\n",
            "136/136 - 1s - loss: 9.5604 - dense_4_loss: 8.9394 - dense_5_loss: 0.6209 - 1s/epoch - 10ms/step\n",
            "Epoch 90/150\n",
            "136/136 - 1s - loss: 9.1751 - dense_4_loss: 8.5619 - dense_5_loss: 0.6133 - 1s/epoch - 10ms/step\n",
            "Epoch 91/150\n",
            "136/136 - 1s - loss: 9.0608 - dense_4_loss: 8.4444 - dense_5_loss: 0.6164 - 1s/epoch - 11ms/step\n",
            "Epoch 92/150\n",
            "136/136 - 2s - loss: 9.3965 - dense_4_loss: 8.7917 - dense_5_loss: 0.6048 - 2s/epoch - 12ms/step\n",
            "Epoch 93/150\n",
            "136/136 - 1s - loss: 9.1024 - dense_4_loss: 8.4915 - dense_5_loss: 0.6109 - 1s/epoch - 9ms/step\n",
            "Epoch 94/150\n",
            "136/136 - 1s - loss: 11.5862 - dense_4_loss: 10.9377 - dense_5_loss: 0.6485 - 1s/epoch - 8ms/step\n",
            "Epoch 95/150\n",
            "136/136 - 1s - loss: 9.6621 - dense_4_loss: 9.0445 - dense_5_loss: 0.6176 - 1s/epoch - 8ms/step\n",
            "Epoch 96/150\n",
            "136/136 - 1s - loss: 9.8655 - dense_4_loss: 9.2377 - dense_5_loss: 0.6278 - 1s/epoch - 8ms/step\n",
            "Epoch 97/150\n",
            "136/136 - 1s - loss: 10.6659 - dense_4_loss: 10.0242 - dense_5_loss: 0.6418 - 1s/epoch - 8ms/step\n",
            "Epoch 98/150\n",
            "136/136 - 1s - loss: 9.6435 - dense_4_loss: 9.0213 - dense_5_loss: 0.6222 - 1s/epoch - 8ms/step\n",
            "Epoch 99/150\n",
            "136/136 - 1s - loss: 9.4657 - dense_4_loss: 8.8502 - dense_5_loss: 0.6155 - 1s/epoch - 8ms/step\n",
            "Epoch 100/150\n",
            "136/136 - 2s - loss: 9.2565 - dense_4_loss: 8.6404 - dense_5_loss: 0.6162 - 2s/epoch - 12ms/step\n",
            "Epoch 101/150\n",
            "136/136 - 2s - loss: 9.2860 - dense_4_loss: 8.6783 - dense_5_loss: 0.6078 - 2s/epoch - 12ms/step\n",
            "Epoch 102/150\n",
            "136/136 - 1s - loss: 9.2783 - dense_4_loss: 8.6694 - dense_5_loss: 0.6089 - 1s/epoch - 8ms/step\n",
            "Epoch 103/150\n",
            "136/136 - 1s - loss: 9.1533 - dense_4_loss: 8.5558 - dense_5_loss: 0.5975 - 1s/epoch - 8ms/step\n",
            "Epoch 104/150\n",
            "136/136 - 1s - loss: 9.6339 - dense_4_loss: 9.0174 - dense_5_loss: 0.6165 - 955ms/epoch - 7ms/step\n",
            "Epoch 105/150\n",
            "136/136 - 1s - loss: 9.1186 - dense_4_loss: 8.5119 - dense_5_loss: 0.6067 - 1s/epoch - 8ms/step\n",
            "Epoch 106/150\n",
            "136/136 - 1s - loss: 9.6005 - dense_4_loss: 8.9883 - dense_5_loss: 0.6122 - 940ms/epoch - 7ms/step\n",
            "Epoch 107/150\n",
            "136/136 - 1s - loss: 9.6767 - dense_4_loss: 9.0746 - dense_5_loss: 0.6021 - 1s/epoch - 7ms/step\n",
            "Epoch 108/150\n",
            "136/136 - 1s - loss: 9.6123 - dense_4_loss: 8.9971 - dense_5_loss: 0.6152 - 955ms/epoch - 7ms/step\n",
            "Epoch 109/150\n",
            "136/136 - 1s - loss: 9.1552 - dense_4_loss: 8.5519 - dense_5_loss: 0.6032 - 1s/epoch - 8ms/step\n",
            "Epoch 110/150\n",
            "136/136 - 1s - loss: 8.7683 - dense_4_loss: 8.1762 - dense_5_loss: 0.5921 - 1s/epoch - 8ms/step\n",
            "Epoch 111/150\n",
            "136/136 - 1s - loss: 8.8123 - dense_4_loss: 8.2282 - dense_5_loss: 0.5842 - 1s/epoch - 8ms/step\n",
            "Epoch 112/150\n",
            "136/136 - 1s - loss: 9.2651 - dense_4_loss: 8.6711 - dense_5_loss: 0.5940 - 1s/epoch - 8ms/step\n",
            "Epoch 113/150\n",
            "136/136 - 1s - loss: 9.0114 - dense_4_loss: 8.4223 - dense_5_loss: 0.5892 - 1s/epoch - 8ms/step\n",
            "Epoch 114/150\n",
            "136/136 - 1s - loss: 8.7451 - dense_4_loss: 8.1617 - dense_5_loss: 0.5834 - 1s/epoch - 8ms/step\n",
            "Epoch 115/150\n",
            "136/136 - 1s - loss: 8.5622 - dense_4_loss: 7.9793 - dense_5_loss: 0.5829 - 1s/epoch - 8ms/step\n",
            "Epoch 116/150\n",
            "136/136 - 1s - loss: 8.7937 - dense_4_loss: 8.2104 - dense_5_loss: 0.5833 - 1s/epoch - 7ms/step\n",
            "Epoch 117/150\n",
            "136/136 - 1s - loss: 9.0242 - dense_4_loss: 8.4403 - dense_5_loss: 0.5839 - 1s/epoch - 8ms/step\n",
            "Epoch 118/150\n",
            "136/136 - 1s - loss: 9.1058 - dense_4_loss: 8.5306 - dense_5_loss: 0.5752 - 1s/epoch - 8ms/step\n",
            "Epoch 119/150\n",
            "136/136 - 1s - loss: 8.7499 - dense_4_loss: 8.1762 - dense_5_loss: 0.5737 - 1s/epoch - 8ms/step\n",
            "Epoch 120/150\n",
            "136/136 - 1s - loss: 8.6161 - dense_4_loss: 8.0494 - dense_5_loss: 0.5667 - 1s/epoch - 7ms/step\n",
            "Epoch 121/150\n",
            "136/136 - 1s - loss: 8.4764 - dense_4_loss: 7.9099 - dense_5_loss: 0.5665 - 1s/epoch - 8ms/step\n",
            "Epoch 122/150\n",
            "136/136 - 1s - loss: 8.9118 - dense_4_loss: 8.3512 - dense_5_loss: 0.5606 - 1s/epoch - 8ms/step\n",
            "Epoch 123/150\n",
            "136/136 - 1s - loss: 8.8172 - dense_4_loss: 8.2552 - dense_5_loss: 0.5620 - 1s/epoch - 7ms/step\n",
            "Epoch 124/150\n",
            "136/136 - 1s - loss: 9.1874 - dense_4_loss: 8.6147 - dense_5_loss: 0.5726 - 1s/epoch - 8ms/step\n",
            "Epoch 125/150\n",
            "136/136 - 1s - loss: 8.7402 - dense_4_loss: 8.1741 - dense_5_loss: 0.5660 - 1s/epoch - 8ms/step\n",
            "Epoch 126/150\n",
            "136/136 - 1s - loss: 8.5216 - dense_4_loss: 7.9603 - dense_5_loss: 0.5613 - 1s/epoch - 8ms/step\n",
            "Epoch 127/150\n",
            "136/136 - 1s - loss: 8.2643 - dense_4_loss: 7.7119 - dense_5_loss: 0.5524 - 1s/epoch - 8ms/step\n",
            "Epoch 128/150\n",
            "136/136 - 1s - loss: 8.5839 - dense_4_loss: 8.0190 - dense_5_loss: 0.5650 - 1s/epoch - 8ms/step\n",
            "Epoch 129/150\n",
            "136/136 - 1s - loss: 8.5704 - dense_4_loss: 8.0164 - dense_5_loss: 0.5540 - 1s/epoch - 8ms/step\n",
            "Epoch 130/150\n",
            "136/136 - 1s - loss: 8.4960 - dense_4_loss: 7.9428 - dense_5_loss: 0.5532 - 1s/epoch - 8ms/step\n",
            "Epoch 131/150\n",
            "136/136 - 1s - loss: 8.6247 - dense_4_loss: 8.0665 - dense_5_loss: 0.5582 - 1s/epoch - 8ms/step\n",
            "Epoch 132/150\n",
            "136/136 - 1s - loss: 9.6193 - dense_4_loss: 9.0447 - dense_5_loss: 0.5746 - 988ms/epoch - 7ms/step\n",
            "Epoch 133/150\n",
            "136/136 - 1s - loss: 8.0546 - dense_4_loss: 7.5097 - dense_5_loss: 0.5449 - 1s/epoch - 8ms/step\n",
            "Epoch 134/150\n",
            "136/136 - 1s - loss: 8.5785 - dense_4_loss: 8.0203 - dense_5_loss: 0.5582 - 1s/epoch - 8ms/step\n",
            "Epoch 135/150\n",
            "136/136 - 1s - loss: 8.6487 - dense_4_loss: 8.0935 - dense_5_loss: 0.5552 - 1s/epoch - 8ms/step\n",
            "Epoch 136/150\n",
            "136/136 - 1s - loss: 8.4082 - dense_4_loss: 7.8513 - dense_5_loss: 0.5569 - 1s/epoch - 8ms/step\n",
            "Epoch 137/150\n",
            "136/136 - 1s - loss: 8.4083 - dense_4_loss: 7.8375 - dense_5_loss: 0.5708 - 1s/epoch - 8ms/step\n",
            "Epoch 138/150\n",
            "136/136 - 1s - loss: 7.7223 - dense_4_loss: 7.1821 - dense_5_loss: 0.5403 - 1s/epoch - 8ms/step\n",
            "Epoch 139/150\n",
            "136/136 - 1s - loss: 7.7323 - dense_4_loss: 7.1977 - dense_5_loss: 0.5346 - 1s/epoch - 8ms/step\n",
            "Epoch 140/150\n",
            "136/136 - 1s - loss: 7.6785 - dense_4_loss: 7.1505 - dense_5_loss: 0.5280 - 1s/epoch - 8ms/step\n",
            "Epoch 141/150\n",
            "136/136 - 1s - loss: 7.9007 - dense_4_loss: 7.3628 - dense_5_loss: 0.5379 - 1s/epoch - 8ms/step\n",
            "Epoch 142/150\n",
            "136/136 - 1s - loss: 7.6685 - dense_4_loss: 7.1310 - dense_5_loss: 0.5374 - 1s/epoch - 8ms/step\n",
            "Epoch 143/150\n",
            "136/136 - 1s - loss: 7.9789 - dense_4_loss: 7.4380 - dense_5_loss: 0.5408 - 1s/epoch - 8ms/step\n",
            "Epoch 144/150\n",
            "136/136 - 1s - loss: 8.1476 - dense_4_loss: 7.6125 - dense_5_loss: 0.5351 - 1s/epoch - 8ms/step\n",
            "Epoch 145/150\n",
            "136/136 - 1s - loss: 7.7981 - dense_4_loss: 7.2769 - dense_5_loss: 0.5212 - 1s/epoch - 8ms/step\n",
            "Epoch 146/150\n",
            "136/136 - 1s - loss: 7.8428 - dense_4_loss: 7.3099 - dense_5_loss: 0.5328 - 1s/epoch - 8ms/step\n",
            "Epoch 147/150\n",
            "136/136 - 1s - loss: 7.7371 - dense_4_loss: 7.2014 - dense_5_loss: 0.5357 - 1s/epoch - 8ms/step\n",
            "Epoch 148/150\n",
            "136/136 - 1s - loss: 7.2946 - dense_4_loss: 6.7806 - dense_5_loss: 0.5140 - 1s/epoch - 7ms/step\n",
            "Epoch 149/150\n",
            "136/136 - 1s - loss: 7.4926 - dense_4_loss: 6.9794 - dense_5_loss: 0.5132 - 1s/epoch - 8ms/step\n",
            "Epoch 150/150\n",
            "136/136 - 1s - loss: 7.7726 - dense_4_loss: 7.2464 - dense_5_loss: 0.5262 - 1s/epoch - 8ms/step\n"
          ]
        },
        {
          "output_type": "execute_result",
          "data": {
            "text/plain": [
              "<keras.callbacks.History at 0x7fc2d21b9690>"
            ]
          },
          "metadata": {},
          "execution_count": 26
        }
      ]
    },
    {
      "cell_type": "code",
      "source": [
        "score, grade = model.predict(X_test)\n",
        "# calculate error for regression model\n",
        "error = mean_absolute_error(y_test_score, score)\n",
        "print('MAE: %.3f' % error)\n",
        "# evaluate accuracy for classification model\n",
        "grade = argmax(grade, axis=-1).astype('int')\n",
        "acc = accuracy_score(y_test_grade, grade)\n",
        "print('Accuracy: %.3f' % acc)"
      ],
      "metadata": {
        "colab": {
          "base_uri": "https://localhost:8080/"
        },
        "id": "y1WzuEi5uydU",
        "outputId": "6c545764-ebc1-44ff-f371-9e5470b5caf5"
      },
      "execution_count": null,
      "outputs": [
        {
          "output_type": "stream",
          "name": "stdout",
          "text": [
            "MAE: 2.148\n",
            "Accuracy: 0.705\n"
          ]
        }
      ]
    },
    {
      "cell_type": "code",
      "source": [
        "model.save('model.h5')"
      ],
      "metadata": {
        "id": "-bwsH2TnFLp-"
      },
      "execution_count": null,
      "outputs": []
    },
    {
      "cell_type": "code",
      "source": [
        "loaded_model = load_model('model.h5')"
      ],
      "metadata": {
        "id": "93U66cRXGYis"
      },
      "execution_count": null,
      "outputs": []
    },
    {
      "cell_type": "code",
      "source": [
        "nutrients = [fat, sat_fat, sugar, salt]\n",
        "n = scaler.fit_transform(np.array(nutrients).reshape(1, -1))\n",
        "score, grade = loaded_model.predict(n)\n",
        "grade = argmax(grade, axis=-1).astype('int')\n",
        "print('Nutrition SCORE', score)\n",
        "print('Nutrition GRADE', le.inverse_transform([grade]))"
      ],
      "metadata": {
        "colab": {
          "base_uri": "https://localhost:8080/"
        },
        "id": "IBBubhv9Gs9C",
        "outputId": "7566d888-56d5-405c-ad89-6c75062bd2c0"
      },
      "execution_count": null,
      "outputs": [
        {
          "output_type": "stream",
          "name": "stdout",
          "text": [
            "Nutrition SCORE [[18.12929]]\n",
            "Nutrition GRADE ['d']\n"
          ]
        }
      ]
    },
    {
      "cell_type": "code",
      "source": [],
      "metadata": {
        "id": "4lL2v_cSUIrq"
      },
      "execution_count": null,
      "outputs": []
    }
  ]
}