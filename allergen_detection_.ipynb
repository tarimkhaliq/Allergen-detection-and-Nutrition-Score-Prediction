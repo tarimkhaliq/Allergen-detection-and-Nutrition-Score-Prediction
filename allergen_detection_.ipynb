{
  "cells": [
    {
      "cell_type": "code",
      "source": [
        "!pip install paddleocr\n",
        "!pip install paddlepaddle\n",
        "!git clone https://github.com/PaddlePaddle/PaddleOCR"
      ],
      "metadata": {
        "id": "9y6YpURjpXl8",
        "colab": {
          "base_uri": "https://localhost:8080/"
        },
        "outputId": "bd282ad2-f7a2-44d4-e467-024e690dd858"
      },
      "execution_count": null,
      "outputs": [
        {
          "output_type": "stream",
          "name": "stdout",
          "text": [
            "Looking in indexes: https://pypi.org/simple, https://us-python.pkg.dev/colab-wheels/public/simple/\n",
            "Collecting paddleocr\n",
            "  Downloading paddleocr-2.6.0.1-py3-none-any.whl (389 kB)\n",
            "\u001b[K     |████████████████████████████████| 389 kB 4.9 MB/s \n",
            "\u001b[?25hRequirement already satisfied: opencv-contrib-python in /usr/local/lib/python3.7/dist-packages (from paddleocr) (4.6.0.66)\n",
            "Requirement already satisfied: cython in /usr/local/lib/python3.7/dist-packages (from paddleocr) (0.29.32)\n",
            "Requirement already satisfied: imgaug in /usr/local/lib/python3.7/dist-packages (from paddleocr) (0.4.0)\n",
            "Collecting premailer\n",
            "  Downloading premailer-3.10.0-py2.py3-none-any.whl (19 kB)\n",
            "Requirement already satisfied: openpyxl in /usr/local/lib/python3.7/dist-packages (from paddleocr) (3.0.10)\n",
            "Collecting rapidfuzz\n",
            "  Downloading rapidfuzz-2.6.1-cp37-cp37m-manylinux_2_17_x86_64.manylinux2014_x86_64.whl (2.3 MB)\n",
            "\u001b[K     |████████████████████████████████| 2.3 MB 38.5 MB/s \n",
            "\u001b[?25hRequirement already satisfied: shapely in /usr/local/lib/python3.7/dist-packages (from paddleocr) (1.8.4)\n",
            "Requirement already satisfied: tqdm in /usr/local/lib/python3.7/dist-packages (from paddleocr) (4.64.0)\n",
            "Collecting pyclipper\n",
            "  Downloading pyclipper-1.3.0.post3-cp37-cp37m-manylinux_2_5_x86_64.manylinux1_x86_64.whl (604 kB)\n",
            "\u001b[K     |████████████████████████████████| 604 kB 48.6 MB/s \n",
            "\u001b[?25hRequirement already satisfied: numpy in /usr/local/lib/python3.7/dist-packages (from paddleocr) (1.21.6)\n",
            "Collecting visualdl\n",
            "  Downloading visualdl-2.4.0-py3-none-any.whl (4.9 MB)\n",
            "\u001b[K     |████████████████████████████████| 4.9 MB 34.8 MB/s \n",
            "\u001b[?25hRequirement already satisfied: lmdb in /usr/local/lib/python3.7/dist-packages (from paddleocr) (0.99)\n",
            "Collecting attrdict\n",
            "  Downloading attrdict-2.0.1-py2.py3-none-any.whl (9.9 kB)\n",
            "Requirement already satisfied: lxml in /usr/local/lib/python3.7/dist-packages (from paddleocr) (4.9.1)\n",
            "Requirement already satisfied: opencv-python in /usr/local/lib/python3.7/dist-packages (from paddleocr) (4.6.0.66)\n",
            "Requirement already satisfied: scikit-image in /usr/local/lib/python3.7/dist-packages (from paddleocr) (0.18.3)\n",
            "Requirement already satisfied: six in /usr/local/lib/python3.7/dist-packages (from attrdict->paddleocr) (1.15.0)\n",
            "Requirement already satisfied: matplotlib in /usr/local/lib/python3.7/dist-packages (from imgaug->paddleocr) (3.2.2)\n",
            "Requirement already satisfied: imageio in /usr/local/lib/python3.7/dist-packages (from imgaug->paddleocr) (2.9.0)\n",
            "Requirement already satisfied: scipy in /usr/local/lib/python3.7/dist-packages (from imgaug->paddleocr) (1.7.3)\n",
            "Requirement already satisfied: Pillow in /usr/local/lib/python3.7/dist-packages (from imgaug->paddleocr) (7.1.2)\n",
            "Requirement already satisfied: tifffile>=2019.7.26 in /usr/local/lib/python3.7/dist-packages (from scikit-image->paddleocr) (2021.11.2)\n",
            "Requirement already satisfied: PyWavelets>=1.1.1 in /usr/local/lib/python3.7/dist-packages (from scikit-image->paddleocr) (1.3.0)\n",
            "Requirement already satisfied: networkx>=2.0 in /usr/local/lib/python3.7/dist-packages (from scikit-image->paddleocr) (2.6.3)\n",
            "Requirement already satisfied: pyparsing!=2.0.4,!=2.1.2,!=2.1.6,>=2.0.1 in /usr/local/lib/python3.7/dist-packages (from matplotlib->imgaug->paddleocr) (3.0.9)\n",
            "Requirement already satisfied: kiwisolver>=1.0.1 in /usr/local/lib/python3.7/dist-packages (from matplotlib->imgaug->paddleocr) (1.4.4)\n",
            "Requirement already satisfied: cycler>=0.10 in /usr/local/lib/python3.7/dist-packages (from matplotlib->imgaug->paddleocr) (0.11.0)\n",
            "Requirement already satisfied: python-dateutil>=2.1 in /usr/local/lib/python3.7/dist-packages (from matplotlib->imgaug->paddleocr) (2.8.2)\n",
            "Requirement already satisfied: typing-extensions in /usr/local/lib/python3.7/dist-packages (from kiwisolver>=1.0.1->matplotlib->imgaug->paddleocr) (4.1.1)\n",
            "Requirement already satisfied: et-xmlfile in /usr/local/lib/python3.7/dist-packages (from openpyxl->paddleocr) (1.1.0)\n",
            "Collecting cssutils\n",
            "  Downloading cssutils-2.6.0-py3-none-any.whl (399 kB)\n",
            "\u001b[K     |████████████████████████████████| 399 kB 36.7 MB/s \n",
            "\u001b[?25hRequirement already satisfied: requests in /usr/local/lib/python3.7/dist-packages (from premailer->paddleocr) (2.23.0)\n",
            "Collecting cssselect\n",
            "  Downloading cssselect-1.1.0-py2.py3-none-any.whl (16 kB)\n",
            "Requirement already satisfied: cachetools in /usr/local/lib/python3.7/dist-packages (from premailer->paddleocr) (4.2.4)\n",
            "Requirement already satisfied: importlib-metadata in /usr/local/lib/python3.7/dist-packages (from cssutils->premailer->paddleocr) (4.12.0)\n",
            "Requirement already satisfied: zipp>=0.5 in /usr/local/lib/python3.7/dist-packages (from importlib-metadata->cssutils->premailer->paddleocr) (3.8.1)\n",
            "Collecting jarowinkler<2.0.0,>=1.2.0\n",
            "  Downloading jarowinkler-1.2.1-cp37-cp37m-manylinux_2_17_x86_64.manylinux2014_x86_64.whl (104 kB)\n",
            "\u001b[K     |████████████████████████████████| 104 kB 49.2 MB/s \n",
            "\u001b[?25hRequirement already satisfied: idna<3,>=2.5 in /usr/local/lib/python3.7/dist-packages (from requests->premailer->paddleocr) (2.10)\n",
            "Requirement already satisfied: urllib3!=1.25.0,!=1.25.1,<1.26,>=1.21.1 in /usr/local/lib/python3.7/dist-packages (from requests->premailer->paddleocr) (1.24.3)\n",
            "Requirement already satisfied: chardet<4,>=3.0.2 in /usr/local/lib/python3.7/dist-packages (from requests->premailer->paddleocr) (3.0.4)\n",
            "Requirement already satisfied: certifi>=2017.4.17 in /usr/local/lib/python3.7/dist-packages (from requests->premailer->paddleocr) (2022.6.15)\n",
            "Requirement already satisfied: protobuf>=3.11.0 in /usr/local/lib/python3.7/dist-packages (from visualdl->paddleocr) (3.17.3)\n",
            "Collecting bce-python-sdk\n",
            "  Downloading bce_python_sdk-0.8.74-py3-none-any.whl (204 kB)\n",
            "\u001b[K     |████████████████████████████████| 204 kB 45.5 MB/s \n",
            "\u001b[?25hRequirement already satisfied: pandas in /usr/local/lib/python3.7/dist-packages (from visualdl->paddleocr) (1.3.5)\n",
            "Requirement already satisfied: flask>=1.1.1 in /usr/local/lib/python3.7/dist-packages (from visualdl->paddleocr) (1.1.4)\n",
            "Collecting Flask-Babel>=1.0.0\n",
            "  Downloading Flask_Babel-2.0.0-py3-none-any.whl (9.3 kB)\n",
            "Requirement already satisfied: click<8.0,>=5.1 in /usr/local/lib/python3.7/dist-packages (from flask>=1.1.1->visualdl->paddleocr) (7.1.2)\n",
            "Requirement already satisfied: Werkzeug<2.0,>=0.15 in /usr/local/lib/python3.7/dist-packages (from flask>=1.1.1->visualdl->paddleocr) (1.0.1)\n",
            "Requirement already satisfied: itsdangerous<2.0,>=0.24 in /usr/local/lib/python3.7/dist-packages (from flask>=1.1.1->visualdl->paddleocr) (1.1.0)\n",
            "Requirement already satisfied: Jinja2<3.0,>=2.10.1 in /usr/local/lib/python3.7/dist-packages (from flask>=1.1.1->visualdl->paddleocr) (2.11.3)\n",
            "Requirement already satisfied: Babel>=2.3 in /usr/local/lib/python3.7/dist-packages (from Flask-Babel>=1.0.0->visualdl->paddleocr) (2.10.3)\n",
            "Requirement already satisfied: pytz in /usr/local/lib/python3.7/dist-packages (from Flask-Babel>=1.0.0->visualdl->paddleocr) (2022.2.1)\n",
            "Requirement already satisfied: MarkupSafe>=0.23 in /usr/local/lib/python3.7/dist-packages (from Jinja2<3.0,>=2.10.1->flask>=1.1.1->visualdl->paddleocr) (2.0.1)\n",
            "Collecting pycryptodome>=3.8.0\n",
            "  Downloading pycryptodome-3.15.0-cp35-abi3-manylinux2010_x86_64.whl (2.3 MB)\n",
            "\u001b[K     |████████████████████████████████| 2.3 MB 42.4 MB/s \n",
            "\u001b[?25hRequirement already satisfied: future>=0.6.0 in /usr/local/lib/python3.7/dist-packages (from bce-python-sdk->visualdl->paddleocr) (0.16.0)\n",
            "Installing collected packages: pycryptodome, jarowinkler, Flask-Babel, cssutils, cssselect, bce-python-sdk, visualdl, rapidfuzz, pyclipper, premailer, attrdict, paddleocr\n",
            "Successfully installed Flask-Babel-2.0.0 attrdict-2.0.1 bce-python-sdk-0.8.74 cssselect-1.1.0 cssutils-2.6.0 jarowinkler-1.2.1 paddleocr-2.6.0.1 premailer-3.10.0 pyclipper-1.3.0.post3 pycryptodome-3.15.0 rapidfuzz-2.6.1 visualdl-2.4.0\n",
            "Looking in indexes: https://pypi.org/simple, https://us-python.pkg.dev/colab-wheels/public/simple/\n",
            "Collecting paddlepaddle\n",
            "  Downloading paddlepaddle-2.3.2-cp37-cp37m-manylinux1_x86_64.whl (112.5 MB)\n",
            "\u001b[K     |████████████████████████████████| 112.5 MB 58 kB/s \n",
            "\u001b[?25hCollecting paddle-bfloat==0.1.7\n",
            "  Downloading paddle_bfloat-0.1.7-cp37-cp37m-manylinux_2_17_x86_64.manylinux2014_x86_64.whl (394 kB)\n",
            "\u001b[K     |████████████████████████████████| 394 kB 49.7 MB/s \n",
            "\u001b[?25hRequirement already satisfied: six in /usr/local/lib/python3.7/dist-packages (from paddlepaddle) (1.15.0)\n",
            "Requirement already satisfied: requests>=2.20.0 in /usr/local/lib/python3.7/dist-packages (from paddlepaddle) (2.23.0)\n",
            "Requirement already satisfied: Pillow in /usr/local/lib/python3.7/dist-packages (from paddlepaddle) (7.1.2)\n",
            "Requirement already satisfied: astor in /usr/local/lib/python3.7/dist-packages (from paddlepaddle) (0.8.1)\n",
            "Requirement already satisfied: opt-einsum==3.3.0 in /usr/local/lib/python3.7/dist-packages (from paddlepaddle) (3.3.0)\n",
            "Requirement already satisfied: decorator in /usr/local/lib/python3.7/dist-packages (from paddlepaddle) (4.4.2)\n",
            "Requirement already satisfied: numpy>=1.13 in /usr/local/lib/python3.7/dist-packages (from paddlepaddle) (1.21.6)\n",
            "Requirement already satisfied: protobuf<=3.20.0,>=3.1.0 in /usr/local/lib/python3.7/dist-packages (from paddlepaddle) (3.17.3)\n",
            "Requirement already satisfied: certifi>=2017.4.17 in /usr/local/lib/python3.7/dist-packages (from requests>=2.20.0->paddlepaddle) (2022.6.15)\n",
            "Requirement already satisfied: chardet<4,>=3.0.2 in /usr/local/lib/python3.7/dist-packages (from requests>=2.20.0->paddlepaddle) (3.0.4)\n",
            "Requirement already satisfied: urllib3!=1.25.0,!=1.25.1,<1.26,>=1.21.1 in /usr/local/lib/python3.7/dist-packages (from requests>=2.20.0->paddlepaddle) (1.24.3)\n",
            "Requirement already satisfied: idna<3,>=2.5 in /usr/local/lib/python3.7/dist-packages (from requests>=2.20.0->paddlepaddle) (2.10)\n",
            "Installing collected packages: paddle-bfloat, paddlepaddle\n",
            "Successfully installed paddle-bfloat-0.1.7 paddlepaddle-2.3.2\n",
            "Cloning into 'PaddleOCR'...\n",
            "remote: Enumerating objects: 42497, done.\u001b[K\n",
            "remote: Counting objects: 100% (737/737), done.\u001b[K\n",
            "remote: Compressing objects: 100% (388/388), done.\u001b[K\n",
            "remote: Total 42497 (delta 422), reused 614 (delta 346), pack-reused 41760\u001b[K\n",
            "Receiving objects: 100% (42497/42497), 336.01 MiB | 27.77 MiB/s, done.\n",
            "Resolving deltas: 100% (29863/29863), done.\n",
            "Checking out files: 100% (1519/1519), done.\n"
          ]
        }
      ]
    },
    {
      "cell_type": "code",
      "source": [
        "!gdown 1JR3Sgz2-AyfIDT7jYRXL8XMrMom57DAi\n",
        "!gdown 13du4J0NVPa6NWcehJITx1jcfYsINdBE5"
      ],
      "metadata": {
        "colab": {
          "base_uri": "https://localhost:8080/"
        },
        "id": "fRebiGN6iv69",
        "outputId": "8163e0f1-64ce-4a1b-af46-607573bb1b05"
      },
      "execution_count": null,
      "outputs": [
        {
          "output_type": "stream",
          "name": "stdout",
          "text": [
            "Downloading...\n",
            "From: https://drive.google.com/uc?id=1JR3Sgz2-AyfIDT7jYRXL8XMrMom57DAi\n",
            "To: /content/english_dataset.csv\n",
            "100% 643k/643k [00:00<00:00, 76.9MB/s]\n",
            "Downloading...\n",
            "From: https://drive.google.com/uc?id=13du4J0NVPa6NWcehJITx1jcfYsINdBE5\n",
            "To: /content/Allergen.csv\n",
            "100% 2.05k/2.05k [00:00<00:00, 2.06MB/s]\n"
          ]
        }
      ]
    },
    {
      "cell_type": "code",
      "source": [
        "import re\n",
        "from paddleocr import PaddleOCR, draw_ocr\n",
        "import spacy\n",
        "import en_core_web_sm\n",
        "from sklearn.metrics.pairwise import cosine_similarity\n",
        "import numpy as np\n",
        "import nltk\n",
        "nltk.download('punkt')\n",
        "from nltk.tokenize import word_tokenize\n",
        "import pandas as pd"
      ],
      "metadata": {
        "id": "PsHHhlOxiavr",
        "colab": {
          "base_uri": "https://localhost:8080/"
        },
        "outputId": "d6382c52-47e2-4c4d-f109-199c54237c7d"
      },
      "execution_count": null,
      "outputs": [
        {
          "output_type": "stream",
          "name": "stderr",
          "text": [
            "[nltk_data] Downloading package punkt to /root/nltk_data...\n",
            "[nltk_data]   Unzipping tokenizers/punkt.zip.\n"
          ]
        }
      ]
    },
    {
      "cell_type": "code",
      "source": [
        "np.set_printoptions(precision=2)"
      ],
      "metadata": {
        "id": "YR4GINI_7zcd"
      },
      "execution_count": null,
      "outputs": []
    },
    {
      "cell_type": "code",
      "source": [
        "ocr_model = PaddleOCR(lang='en',use_angle_cls=True)"
      ],
      "metadata": {
        "colab": {
          "base_uri": "https://localhost:8080/"
        },
        "id": "Jrhitu1R00K4",
        "outputId": "bb04d2f2-0b5f-41fe-bb53-deb881db59e0"
      },
      "execution_count": null,
      "outputs": [
        {
          "output_type": "stream",
          "name": "stdout",
          "text": [
            "download https://paddleocr.bj.bcebos.com/PP-OCRv3/english/en_PP-OCRv3_det_infer.tar to /root/.paddleocr/whl/det/en/en_PP-OCRv3_det_infer/en_PP-OCRv3_det_infer.tar\n"
          ]
        },
        {
          "output_type": "stream",
          "name": "stderr",
          "text": [
            "100%|██████████| 3.86M/3.86M [00:13<00:00, 287kiB/s]\n"
          ]
        },
        {
          "output_type": "stream",
          "name": "stdout",
          "text": [
            "download https://paddleocr.bj.bcebos.com/PP-OCRv3/english/en_PP-OCRv3_rec_infer.tar to /root/.paddleocr/whl/rec/en/en_PP-OCRv3_rec_infer/en_PP-OCRv3_rec_infer.tar\n"
          ]
        },
        {
          "output_type": "stream",
          "name": "stderr",
          "text": [
            "100%|██████████| 9.96M/9.96M [00:12<00:00, 766kiB/s] \n"
          ]
        },
        {
          "output_type": "stream",
          "name": "stdout",
          "text": [
            "download https://paddleocr.bj.bcebos.com/dygraph_v2.0/ch/ch_ppocr_mobile_v2.0_cls_infer.tar to /root/.paddleocr/whl/cls/ch_ppocr_mobile_v2.0_cls_infer/ch_ppocr_mobile_v2.0_cls_infer.tar\n"
          ]
        },
        {
          "output_type": "stream",
          "name": "stderr",
          "text": [
            "100%|██████████| 2.19M/2.19M [00:13<00:00, 168kiB/s]"
          ]
        },
        {
          "output_type": "stream",
          "name": "stdout",
          "text": [
            "[2022/09/09 11:45:56] ppocr DEBUG: Namespace(alpha=1.0, benchmark=False, beta=1.0, cls_batch_num=6, cls_image_shape='3, 48, 192', cls_model_dir='/root/.paddleocr/whl/cls/ch_ppocr_mobile_v2.0_cls_infer', cls_thresh=0.9, cpu_threads=10, crop_res_save_dir='./output', det=True, det_algorithm='DB', det_db_box_thresh=0.6, det_db_score_mode='fast', det_db_thresh=0.3, det_db_unclip_ratio=1.5, det_east_cover_thresh=0.1, det_east_nms_thresh=0.2, det_east_score_thresh=0.8, det_fce_box_type='poly', det_limit_side_len=960, det_limit_type='max', det_model_dir='/root/.paddleocr/whl/det/en/en_PP-OCRv3_det_infer', det_pse_box_thresh=0.85, det_pse_box_type='quad', det_pse_min_area=16, det_pse_scale=1, det_pse_thresh=0, det_sast_nms_thresh=0.2, det_sast_polygon=False, det_sast_score_thresh=0.5, draw_img_save_dir='./inference_results', drop_score=0.5, e2e_algorithm='PGNet', e2e_char_dict_path='./ppocr/utils/ic15_dict.txt', e2e_limit_side_len=768, e2e_limit_type='max', e2e_model_dir=None, e2e_pgnet_mode='fast', e2e_pgnet_score_thresh=0.5, e2e_pgnet_valid_set='totaltext', enable_mkldnn=False, fourier_degree=5, gpu_mem=500, help='==SUPPRESS==', image_dir=None, image_orientation=False, ir_optim=True, kie_algorithm='LayoutXLM', label_list=['0', '180'], lang='en', layout=True, layout_dict_path=None, layout_model_dir=None, layout_nms_threshold=0.5, layout_score_threshold=0.5, max_batch_size=10, max_text_length=25, merge_no_span_structure=True, min_subgraph_size=15, mode='structure', ocr=True, ocr_order_method=None, ocr_version='PP-OCRv3', output='./output', precision='fp32', process_id=0, rec=True, rec_algorithm='SVTR_LCNet', rec_batch_num=6, rec_char_dict_path='/usr/local/lib/python3.7/dist-packages/paddleocr/ppocr/utils/en_dict.txt', rec_image_shape='3, 48, 320', rec_model_dir='/root/.paddleocr/whl/rec/en/en_PP-OCRv3_rec_infer', recovery=False, save_crop_res=False, save_log_path='./log_output/', save_pdf=False, scales=[8, 16, 32], ser_dict_path='../train_data/XFUND/class_list_xfun.txt', ser_model_dir=None, shape_info_filename=None, show_log=True, sr_batch_num=1, sr_image_shape='3, 32, 128', sr_model_dir=None, structure_version='PP-Structurev2', table=True, table_algorithm='TableAttn', table_char_dict_path=None, table_max_len=488, table_model_dir=None, total_process_num=1, type='ocr', use_angle_cls=True, use_dilation=False, use_gpu=False, use_mp=False, use_onnx=False, use_pdserving=False, use_space_char=True, use_tensorrt=False, use_xpu=False, vis_font_path='./doc/fonts/simfang.ttf', warmup=False)\n"
          ]
        },
        {
          "output_type": "stream",
          "name": "stderr",
          "text": [
            "\n"
          ]
        }
      ]
    },
    {
      "cell_type": "code",
      "execution_count": null,
      "metadata": {
        "id": "PAfUrFZ6eeXP"
      },
      "outputs": [],
      "source": [
        "df = pd.read_csv('english_dataset.csv')\n",
        "aller_list = pd.read_csv('Allergen.csv') "
      ]
    },
    {
      "cell_type": "code",
      "source": [
        "df = df.drop(414)"
      ],
      "metadata": {
        "id": "dDnsoIdOWlmD"
      },
      "execution_count": null,
      "outputs": []
    },
    {
      "cell_type": "code",
      "execution_count": null,
      "metadata": {
        "colab": {
          "base_uri": "https://localhost:8080/",
          "height": 426
        },
        "id": "rL79oawWAbsw",
        "outputId": "b2da6501-f8f5-4947-b88d-12ad5facb52b"
      },
      "outputs": [
        {
          "output_type": "execute_result",
          "data": {
            "text/plain": [
              "                                    ingredients_text  \\\n",
              "0       water, _almonds_* 5%, agave syrup*, sea salt   \n",
              "1  Wheat flour, sugar, almonds 18%, eggs, egg Whi...   \n",
              "2  _WHEAT_ flour, water, tomato pulp, mozzarella ...   \n",
              "3                            LATTE_ INTERO BIOLOGICO   \n",
              "4  Pistachio 45%, sugar, milk powder, extra virgi...   \n",
              "\n",
              "                                       allergens  \\\n",
              "0                                        en:nuts   \n",
              "1  en:eggs,en:gluten,en:milk,en:nuts,en:soybeans   \n",
              "2                              en:gluten,en:milk   \n",
              "3                                        en:milk   \n",
              "4                    en:milk,en:nuts,en:soybeans   \n",
              "\n",
              "                               image_ingredients_url  \\\n",
              "0  https://images.openfoodfacts.org/images/produc...   \n",
              "1  https://images.openfoodfacts.org/images/produc...   \n",
              "2  https://images.openfoodfacts.org/images/produc...   \n",
              "3  https://images.openfoodfacts.org/images/produc...   \n",
              "4  https://images.openfoodfacts.org/images/produc...   \n",
              "\n",
              "                                 image_nutrition_url  is_allergen  \\\n",
              "0  https://images.openfoodfacts.org/images/produc...         True   \n",
              "1  https://images.openfoodfacts.org/images/produc...         True   \n",
              "2  https://images.openfoodfacts.org/images/produc...         True   \n",
              "3  https://images.openfoodfacts.org/images/produc...         True   \n",
              "4  https://images.openfoodfacts.org/images/produc...         True   \n",
              "\n",
              "  ingredeint_language  \n",
              "0                  en  \n",
              "1                  en  \n",
              "2                  en  \n",
              "3                  en  \n",
              "4                  en  "
            ],
            "text/html": [
              "\n",
              "  <div id=\"df-f614a1c0-7e52-446a-a725-4fc62252be17\">\n",
              "    <div class=\"colab-df-container\">\n",
              "      <div>\n",
              "<style scoped>\n",
              "    .dataframe tbody tr th:only-of-type {\n",
              "        vertical-align: middle;\n",
              "    }\n",
              "\n",
              "    .dataframe tbody tr th {\n",
              "        vertical-align: top;\n",
              "    }\n",
              "\n",
              "    .dataframe thead th {\n",
              "        text-align: right;\n",
              "    }\n",
              "</style>\n",
              "<table border=\"1\" class=\"dataframe\">\n",
              "  <thead>\n",
              "    <tr style=\"text-align: right;\">\n",
              "      <th></th>\n",
              "      <th>ingredients_text</th>\n",
              "      <th>allergens</th>\n",
              "      <th>image_ingredients_url</th>\n",
              "      <th>image_nutrition_url</th>\n",
              "      <th>is_allergen</th>\n",
              "      <th>ingredeint_language</th>\n",
              "    </tr>\n",
              "  </thead>\n",
              "  <tbody>\n",
              "    <tr>\n",
              "      <th>0</th>\n",
              "      <td>water, _almonds_* 5%, agave syrup*, sea salt</td>\n",
              "      <td>en:nuts</td>\n",
              "      <td>https://images.openfoodfacts.org/images/produc...</td>\n",
              "      <td>https://images.openfoodfacts.org/images/produc...</td>\n",
              "      <td>True</td>\n",
              "      <td>en</td>\n",
              "    </tr>\n",
              "    <tr>\n",
              "      <th>1</th>\n",
              "      <td>Wheat flour, sugar, almonds 18%, eggs, egg Whi...</td>\n",
              "      <td>en:eggs,en:gluten,en:milk,en:nuts,en:soybeans</td>\n",
              "      <td>https://images.openfoodfacts.org/images/produc...</td>\n",
              "      <td>https://images.openfoodfacts.org/images/produc...</td>\n",
              "      <td>True</td>\n",
              "      <td>en</td>\n",
              "    </tr>\n",
              "    <tr>\n",
              "      <th>2</th>\n",
              "      <td>_WHEAT_ flour, water, tomato pulp, mozzarella ...</td>\n",
              "      <td>en:gluten,en:milk</td>\n",
              "      <td>https://images.openfoodfacts.org/images/produc...</td>\n",
              "      <td>https://images.openfoodfacts.org/images/produc...</td>\n",
              "      <td>True</td>\n",
              "      <td>en</td>\n",
              "    </tr>\n",
              "    <tr>\n",
              "      <th>3</th>\n",
              "      <td>LATTE_ INTERO BIOLOGICO</td>\n",
              "      <td>en:milk</td>\n",
              "      <td>https://images.openfoodfacts.org/images/produc...</td>\n",
              "      <td>https://images.openfoodfacts.org/images/produc...</td>\n",
              "      <td>True</td>\n",
              "      <td>en</td>\n",
              "    </tr>\n",
              "    <tr>\n",
              "      <th>4</th>\n",
              "      <td>Pistachio 45%, sugar, milk powder, extra virgi...</td>\n",
              "      <td>en:milk,en:nuts,en:soybeans</td>\n",
              "      <td>https://images.openfoodfacts.org/images/produc...</td>\n",
              "      <td>https://images.openfoodfacts.org/images/produc...</td>\n",
              "      <td>True</td>\n",
              "      <td>en</td>\n",
              "    </tr>\n",
              "  </tbody>\n",
              "</table>\n",
              "</div>\n",
              "      <button class=\"colab-df-convert\" onclick=\"convertToInteractive('df-f614a1c0-7e52-446a-a725-4fc62252be17')\"\n",
              "              title=\"Convert this dataframe to an interactive table.\"\n",
              "              style=\"display:none;\">\n",
              "        \n",
              "  <svg xmlns=\"http://www.w3.org/2000/svg\" height=\"24px\"viewBox=\"0 0 24 24\"\n",
              "       width=\"24px\">\n",
              "    <path d=\"M0 0h24v24H0V0z\" fill=\"none\"/>\n",
              "    <path d=\"M18.56 5.44l.94 2.06.94-2.06 2.06-.94-2.06-.94-.94-2.06-.94 2.06-2.06.94zm-11 1L8.5 8.5l.94-2.06 2.06-.94-2.06-.94L8.5 2.5l-.94 2.06-2.06.94zm10 10l.94 2.06.94-2.06 2.06-.94-2.06-.94-.94-2.06-.94 2.06-2.06.94z\"/><path d=\"M17.41 7.96l-1.37-1.37c-.4-.4-.92-.59-1.43-.59-.52 0-1.04.2-1.43.59L10.3 9.45l-7.72 7.72c-.78.78-.78 2.05 0 2.83L4 21.41c.39.39.9.59 1.41.59.51 0 1.02-.2 1.41-.59l7.78-7.78 2.81-2.81c.8-.78.8-2.07 0-2.86zM5.41 20L4 18.59l7.72-7.72 1.47 1.35L5.41 20z\"/>\n",
              "  </svg>\n",
              "      </button>\n",
              "      \n",
              "  <style>\n",
              "    .colab-df-container {\n",
              "      display:flex;\n",
              "      flex-wrap:wrap;\n",
              "      gap: 12px;\n",
              "    }\n",
              "\n",
              "    .colab-df-convert {\n",
              "      background-color: #E8F0FE;\n",
              "      border: none;\n",
              "      border-radius: 50%;\n",
              "      cursor: pointer;\n",
              "      display: none;\n",
              "      fill: #1967D2;\n",
              "      height: 32px;\n",
              "      padding: 0 0 0 0;\n",
              "      width: 32px;\n",
              "    }\n",
              "\n",
              "    .colab-df-convert:hover {\n",
              "      background-color: #E2EBFA;\n",
              "      box-shadow: 0px 1px 2px rgba(60, 64, 67, 0.3), 0px 1px 3px 1px rgba(60, 64, 67, 0.15);\n",
              "      fill: #174EA6;\n",
              "    }\n",
              "\n",
              "    [theme=dark] .colab-df-convert {\n",
              "      background-color: #3B4455;\n",
              "      fill: #D2E3FC;\n",
              "    }\n",
              "\n",
              "    [theme=dark] .colab-df-convert:hover {\n",
              "      background-color: #434B5C;\n",
              "      box-shadow: 0px 1px 3px 1px rgba(0, 0, 0, 0.15);\n",
              "      filter: drop-shadow(0px 1px 2px rgba(0, 0, 0, 0.3));\n",
              "      fill: #FFFFFF;\n",
              "    }\n",
              "  </style>\n",
              "\n",
              "      <script>\n",
              "        const buttonEl =\n",
              "          document.querySelector('#df-f614a1c0-7e52-446a-a725-4fc62252be17 button.colab-df-convert');\n",
              "        buttonEl.style.display =\n",
              "          google.colab.kernel.accessAllowed ? 'block' : 'none';\n",
              "\n",
              "        async function convertToInteractive(key) {\n",
              "          const element = document.querySelector('#df-f614a1c0-7e52-446a-a725-4fc62252be17');\n",
              "          const dataTable =\n",
              "            await google.colab.kernel.invokeFunction('convertToInteractive',\n",
              "                                                     [key], {});\n",
              "          if (!dataTable) return;\n",
              "\n",
              "          const docLinkHtml = 'Like what you see? Visit the ' +\n",
              "            '<a target=\"_blank\" href=https://colab.research.google.com/notebooks/data_table.ipynb>data table notebook</a>'\n",
              "            + ' to learn more about interactive tables.';\n",
              "          element.innerHTML = '';\n",
              "          dataTable['output_type'] = 'display_data';\n",
              "          await google.colab.output.renderOutput(dataTable, element);\n",
              "          const docLink = document.createElement('div');\n",
              "          docLink.innerHTML = docLinkHtml;\n",
              "          element.appendChild(docLink);\n",
              "        }\n",
              "      </script>\n",
              "    </div>\n",
              "  </div>\n",
              "  "
            ]
          },
          "metadata": {},
          "execution_count": 8
        }
      ],
      "source": [
        "df.head()"
      ]
    },
    {
      "cell_type": "code",
      "source": [
        "nlp = en_core_web_sm.load()"
      ],
      "metadata": {
        "id": "lYmcSFlnjXFC"
      },
      "execution_count": null,
      "outputs": []
    },
    {
      "cell_type": "code",
      "source": [
        "aller_list.head()"
      ],
      "metadata": {
        "colab": {
          "base_uri": "https://localhost:8080/",
          "height": 206
        },
        "id": "lsNr-MhBojLA",
        "outputId": "2e3ddc09-a3e2-4e1d-9fbc-423bae0a4dee"
      },
      "execution_count": null,
      "outputs": [
        {
          "output_type": "execute_result",
          "data": {
            "text/plain": [
              "  Ingridients\n",
              "0     celery \n",
              "1       lupin\n",
              "2      lupine\n",
              "3        milk\n",
              "4      cheese"
            ],
            "text/html": [
              "\n",
              "  <div id=\"df-05f0273c-c8a2-498c-9607-76e6e7cd9056\">\n",
              "    <div class=\"colab-df-container\">\n",
              "      <div>\n",
              "<style scoped>\n",
              "    .dataframe tbody tr th:only-of-type {\n",
              "        vertical-align: middle;\n",
              "    }\n",
              "\n",
              "    .dataframe tbody tr th {\n",
              "        vertical-align: top;\n",
              "    }\n",
              "\n",
              "    .dataframe thead th {\n",
              "        text-align: right;\n",
              "    }\n",
              "</style>\n",
              "<table border=\"1\" class=\"dataframe\">\n",
              "  <thead>\n",
              "    <tr style=\"text-align: right;\">\n",
              "      <th></th>\n",
              "      <th>Ingridients</th>\n",
              "    </tr>\n",
              "  </thead>\n",
              "  <tbody>\n",
              "    <tr>\n",
              "      <th>0</th>\n",
              "      <td>celery</td>\n",
              "    </tr>\n",
              "    <tr>\n",
              "      <th>1</th>\n",
              "      <td>lupin</td>\n",
              "    </tr>\n",
              "    <tr>\n",
              "      <th>2</th>\n",
              "      <td>lupine</td>\n",
              "    </tr>\n",
              "    <tr>\n",
              "      <th>3</th>\n",
              "      <td>milk</td>\n",
              "    </tr>\n",
              "    <tr>\n",
              "      <th>4</th>\n",
              "      <td>cheese</td>\n",
              "    </tr>\n",
              "  </tbody>\n",
              "</table>\n",
              "</div>\n",
              "      <button class=\"colab-df-convert\" onclick=\"convertToInteractive('df-05f0273c-c8a2-498c-9607-76e6e7cd9056')\"\n",
              "              title=\"Convert this dataframe to an interactive table.\"\n",
              "              style=\"display:none;\">\n",
              "        \n",
              "  <svg xmlns=\"http://www.w3.org/2000/svg\" height=\"24px\"viewBox=\"0 0 24 24\"\n",
              "       width=\"24px\">\n",
              "    <path d=\"M0 0h24v24H0V0z\" fill=\"none\"/>\n",
              "    <path d=\"M18.56 5.44l.94 2.06.94-2.06 2.06-.94-2.06-.94-.94-2.06-.94 2.06-2.06.94zm-11 1L8.5 8.5l.94-2.06 2.06-.94-2.06-.94L8.5 2.5l-.94 2.06-2.06.94zm10 10l.94 2.06.94-2.06 2.06-.94-2.06-.94-.94-2.06-.94 2.06-2.06.94z\"/><path d=\"M17.41 7.96l-1.37-1.37c-.4-.4-.92-.59-1.43-.59-.52 0-1.04.2-1.43.59L10.3 9.45l-7.72 7.72c-.78.78-.78 2.05 0 2.83L4 21.41c.39.39.9.59 1.41.59.51 0 1.02-.2 1.41-.59l7.78-7.78 2.81-2.81c.8-.78.8-2.07 0-2.86zM5.41 20L4 18.59l7.72-7.72 1.47 1.35L5.41 20z\"/>\n",
              "  </svg>\n",
              "      </button>\n",
              "      \n",
              "  <style>\n",
              "    .colab-df-container {\n",
              "      display:flex;\n",
              "      flex-wrap:wrap;\n",
              "      gap: 12px;\n",
              "    }\n",
              "\n",
              "    .colab-df-convert {\n",
              "      background-color: #E8F0FE;\n",
              "      border: none;\n",
              "      border-radius: 50%;\n",
              "      cursor: pointer;\n",
              "      display: none;\n",
              "      fill: #1967D2;\n",
              "      height: 32px;\n",
              "      padding: 0 0 0 0;\n",
              "      width: 32px;\n",
              "    }\n",
              "\n",
              "    .colab-df-convert:hover {\n",
              "      background-color: #E2EBFA;\n",
              "      box-shadow: 0px 1px 2px rgba(60, 64, 67, 0.3), 0px 1px 3px 1px rgba(60, 64, 67, 0.15);\n",
              "      fill: #174EA6;\n",
              "    }\n",
              "\n",
              "    [theme=dark] .colab-df-convert {\n",
              "      background-color: #3B4455;\n",
              "      fill: #D2E3FC;\n",
              "    }\n",
              "\n",
              "    [theme=dark] .colab-df-convert:hover {\n",
              "      background-color: #434B5C;\n",
              "      box-shadow: 0px 1px 3px 1px rgba(0, 0, 0, 0.15);\n",
              "      filter: drop-shadow(0px 1px 2px rgba(0, 0, 0, 0.3));\n",
              "      fill: #FFFFFF;\n",
              "    }\n",
              "  </style>\n",
              "\n",
              "      <script>\n",
              "        const buttonEl =\n",
              "          document.querySelector('#df-05f0273c-c8a2-498c-9607-76e6e7cd9056 button.colab-df-convert');\n",
              "        buttonEl.style.display =\n",
              "          google.colab.kernel.accessAllowed ? 'block' : 'none';\n",
              "\n",
              "        async function convertToInteractive(key) {\n",
              "          const element = document.querySelector('#df-05f0273c-c8a2-498c-9607-76e6e7cd9056');\n",
              "          const dataTable =\n",
              "            await google.colab.kernel.invokeFunction('convertToInteractive',\n",
              "                                                     [key], {});\n",
              "          if (!dataTable) return;\n",
              "\n",
              "          const docLinkHtml = 'Like what you see? Visit the ' +\n",
              "            '<a target=\"_blank\" href=https://colab.research.google.com/notebooks/data_table.ipynb>data table notebook</a>'\n",
              "            + ' to learn more about interactive tables.';\n",
              "          element.innerHTML = '';\n",
              "          dataTable['output_type'] = 'display_data';\n",
              "          await google.colab.output.renderOutput(dataTable, element);\n",
              "          const docLink = document.createElement('div');\n",
              "          docLink.innerHTML = docLinkHtml;\n",
              "          element.appendChild(docLink);\n",
              "        }\n",
              "      </script>\n",
              "    </div>\n",
              "  </div>\n",
              "  "
            ]
          },
          "metadata": {},
          "execution_count": 10
        }
      ]
    },
    {
      "cell_type": "code",
      "source": [
        "allergen_embeddings = []\n",
        "for allergen in aller_list.Ingridients:\n",
        "  vector = nlp(allergen)\n",
        "  allergen_embeddings.append(vector.vector)"
      ],
      "metadata": {
        "id": "5bDb1WQY8TfB"
      },
      "execution_count": null,
      "outputs": []
    },
    {
      "cell_type": "code",
      "execution_count": null,
      "metadata": {
        "id": "MeUT5488Capf"
      },
      "outputs": [],
      "source": [
        "def preprocess(text):\n",
        "    text = re.sub('#S+', '',text)\n",
        "    text = re.sub('@S+', '  ',text)\n",
        "    text = re.sub('httpS+s*', ' ', text) \n",
        "    text = re.sub('[%s]' % re.escape(\"\"\"!\"#$%&'()*+-,./:;<=>?@[]^_`{|}~\"\"\"), ' ', text)\n",
        "    text = re.sub('RT|cc', ' ', text)\n",
        "    text = re.sub(r'<[^<]+?>', '', text)\n",
        "    text = re.sub(r'[0-9]', \"\", text)\n",
        "    text = text.replace('\\n', ' ') \n",
        "    text = re.sub(r'\\s+', ' ', text)\n",
        "    return text"
      ]
    },
    {
      "cell_type": "code",
      "source": [
        "def detect_allergen(image):\n",
        "  allergen = []\n",
        "  final_ocr = []\n",
        "  image_ocr = ocr_model.ocr(image)\n",
        "  for item in image_ocr:\n",
        "    final_ocr.append(item[1][0])\n",
        "  final_ocr = \" \".join(str(x) for x in final_ocr)\n",
        "  clean_ocr = preprocess(final_ocr)\n",
        "  clean_ocr = word_tokenize(clean_ocr)\n",
        "  clean_ocr = [i.lower() for i in clean_ocr]\n",
        "  print(list(clean_ocr))\n",
        "  for i in clean_ocr:\n",
        "    for j in allergen_embeddings:\n",
        "      ingred = nlp(i)\n",
        "      ingred = np.array(ingred.vector.reshape(1, -1))\n",
        "      aller = np.array(j).reshape(1, -1)\n",
        "      sim = cosine_similarity(ingred, aller)\n",
        "      if sim > 0.90:\n",
        "\n",
        "\n",
        "        print('May contain {}'.format(i))"
      ],
      "metadata": {
        "id": "w5Ew72VTMZ6_"
      },
      "execution_count": null,
      "outputs": []
    },
    {
      "cell_type": "code",
      "source": [
        "detect_allergen(df.image_ingredients_url[10])"
      ],
      "metadata": {
        "colab": {
          "base_uri": "https://localhost:8080/"
        },
        "id": "DrJnFpzIreiP",
        "outputId": "9d8fad26-f176-4c0f-bc9f-3c746d8bff6f"
      },
      "execution_count": null,
      "outputs": [
        {
          "output_type": "stream",
          "name": "stderr",
          "text": [
            "100%|██████████| 24.7k/24.7k [00:00<00:00, 4.19MiB/s]"
          ]
        },
        {
          "output_type": "stream",
          "name": "stdout",
          "text": [
            "[2022/09/09 11:47:32] ppocr DEBUG: dt_boxes num : 5, elapse : 0.04652667045593262\n",
            "[2022/09/09 11:47:32] ppocr DEBUG: cls num  : 5, elapse : 0.04334402084350586\n"
          ]
        },
        {
          "output_type": "stream",
          "name": "stderr",
          "text": [
            "\n"
          ]
        },
        {
          "output_type": "stream",
          "name": "stdout",
          "text": [
            "[2022/09/09 11:47:34] ppocr DEBUG: rec_res num  : 5, elapse : 1.942516803741455\n",
            "['gbbiscuitsfilledwith', 'cappuccinocream', 'ngredientswheat', 'lour', 'sugar', 'vegetable', 'os', 'of', 'pam', 'and', 'sunflower', 'vegetablemargrine', 'pam', 'oilwaterwhole', 'mik', 'powder', 'wheat', 'starchglucose', 'syrup', 'hazelnut', 'paste', 'eggs', 'butter', 'whey', 'powderffe', 'in', 'the', 'contain', 'peanut', 'traces', 'no', 'hydrogenated', 'fats', 'keep', 'cool', 'and', 'dry', 'away', 'from', 'light', 'sources', 'best', 'before', 'end', 'see', 'date', 'printed', 'below', 'madeinitaly']\n",
            "May contain wheat\n",
            "May contain hazelnut\n",
            "May contain butter\n",
            "May contain peanut\n"
          ]
        }
      ]
    },
    {
      "cell_type": "code",
      "source": [
        "detect_allergen(df.image_ingredients_url[1])"
      ],
      "metadata": {
        "colab": {
          "base_uri": "https://localhost:8080/"
        },
        "id": "pQGBMvc90pNn",
        "outputId": "39f97971-d720-49f0-a8d7-6f2c8261047c"
      },
      "execution_count": null,
      "outputs": [
        {
          "output_type": "stream",
          "name": "stderr",
          "text": [
            "100%|██████████| 9.54k/9.54k [00:00<00:00, 2.46MiB/s]"
          ]
        },
        {
          "output_type": "stream",
          "name": "stdout",
          "text": [
            "[2022/08/30 13:41:28] ppocr DEBUG: dt_boxes num : 3, elapse : 0.04230809211730957\n",
            "[2022/08/30 13:41:28] ppocr DEBUG: cls num  : 3, elapse : 0.026709794998168945\n"
          ]
        },
        {
          "output_type": "stream",
          "name": "stderr",
          "text": [
            "\n"
          ]
        },
        {
          "output_type": "stream",
          "name": "stdout",
          "text": [
            "[2022/08/30 13:41:29] ppocr DEBUG: rec_res num  : 3, elapse : 0.6613740921020508\n",
            "['almond', 'cookies', 'confectionary', 'bakery', 'product', 'ingredients', 'wheatavours', 'salt', 'contains', 'wheat', 'eggs', 'pine', 'nuts', 'almonds', 'milk', 'may', 'contain', 'traces', 'of', 'soy', 'store', 'dry', 'and', 'cool', 'plac']\n",
            "May contain almond\n",
            "May contain wheat\n",
            "May contain pine\n",
            "May contain nuts\n",
            "May contain milk\n",
            "May contain milk\n",
            "May contain soy\n"
          ]
        }
      ]
    },
    {
      "cell_type": "code",
      "source": [
        "detect_allergen(df.image_ingredients_url[15])"
      ],
      "metadata": {
        "colab": {
          "base_uri": "https://localhost:8080/"
        },
        "id": "e9ueNST_0qgy",
        "outputId": "fd414b6a-6cea-41a5-d12a-303090f22374"
      },
      "execution_count": null,
      "outputs": [
        {
          "output_type": "stream",
          "name": "stderr",
          "text": [
            "100%|██████████| 7.43k/7.43k [00:00<00:00, 1.58MiB/s]"
          ]
        },
        {
          "output_type": "stream",
          "name": "stdout",
          "text": [
            "[2022/08/30 13:43:44] ppocr DEBUG: dt_boxes num : 1, elapse : 0.03954625129699707\n",
            "[2022/08/30 13:43:44] ppocr DEBUG: cls num  : 1, elapse : 0.011813879013061523\n"
          ]
        },
        {
          "output_type": "stream",
          "name": "stderr",
          "text": [
            "\n"
          ]
        },
        {
          "output_type": "stream",
          "name": "stdout",
          "text": [
            "[2022/08/30 13:43:44] ppocr DEBUG: rec_res num  : 1, elapse : 0.134002685546875\n",
            "['wheat', 'semollna', 'water']\n",
            "May contain wheat\n"
          ]
        }
      ]
    },
    {
      "cell_type": "code",
      "source": [
        "detect_allergen(df.image_ingredients_url[1000])"
      ],
      "metadata": {
        "colab": {
          "base_uri": "https://localhost:8080/"
        },
        "id": "0o_Q_sIk04Va",
        "outputId": "344ee333-a16a-483c-94b4-42c026941543"
      },
      "execution_count": null,
      "outputs": [
        {
          "output_type": "stream",
          "name": "stderr",
          "text": [
            "100%|██████████| 36.6k/36.6k [00:00<00:00, 5.85MiB/s]"
          ]
        },
        {
          "output_type": "stream",
          "name": "stdout",
          "text": [
            "[2022/08/30 13:13:21] ppocr DEBUG: dt_boxes num : 17, elapse : 0.1138145923614502\n"
          ]
        },
        {
          "output_type": "stream",
          "name": "stderr",
          "text": [
            "\n"
          ]
        },
        {
          "output_type": "stream",
          "name": "stdout",
          "text": [
            "[2022/08/30 13:13:21] ppocr DEBUG: cls num  : 17, elapse : 0.14037442207336426\n",
            "[2022/08/30 13:13:28] ppocr DEBUG: rec_res num  : 17, elapse : 6.499310255050659\n",
            "['ngredients', 'driedpotatoesvegetableoilicontainsoneorvoreofthefollowingcorn', 'oil', 'cottonseed', 'oil', 'soybean', 'oiland', 'or', 'sunflower', 'oil', 'degerminated', 'yellowcorn', 'flour', 'cornstarch', 'rice', 'flour', 'maltodextrin', 'mono', 'and', 'diglycerides', 'contains', 'or', 'less', 'of', 'salt', 'dextrose', 'monosodium', 'glutamate', 'whey', 'onion', 'powder', 'citricacid', 'spices', 'natural', 'and', 'a', 'ificial', 'flavors', 'autolyzed', 'yeast', 'extract', 'tomatopowdergarlicpowder', 'torulayeast', 'sugar', 'lacticacid', 'sodiumdiacetate', 'disodiuminosinate', 'disodium', 'guanylate', 'paprika', 'extract', 'color', 'wheat', 'starchcontainsmilkand', 'wheatingredientsingredientes', 'papas', 'deshidratadas', 'aceite', 'vegetal', 'contiene', 'al', 'menos', 'uno', 'de', 'lossiguientes', 'aceites', 'maizsemilla', 'de', 'algodon', 'soya', 'y', 'o', 'girasol', 'harina', 'de', 'maiz', 'singermenmaicenaharina', 'dearrozamaltodextrina', 'monoy', 'digliceridos', 'contieneno', 'mas', 'del', 'de', 'saldextrosa', 'glutamato', 'monosodico', 'suero', 'delechecebollaenlevadura', 'autolizada', 'tomate', 'en', 'polvo', 'ajo', 'en', 'polvo', 'levadura', 'de', 'torula', 'azucaracido', 'lactico', 'diacetato', 'desodio', 'inosinato', 'disodico', 'guanilato', 'disodico', 'extractodepaprika', 'colorante', 'almidondetrigocontienederivadosdelecheytrigo']\n",
            "May contain soybean\n",
            "May contain flour\n",
            "May contain flour\n",
            "May contain yeast\n",
            "May contain wheat\n",
            "May contain soya\n"
          ]
        }
      ]
    },
    {
      "cell_type": "code",
      "source": [
        "detect_allergen(df.image_ingredients_url[100])"
      ],
      "metadata": {
        "colab": {
          "base_uri": "https://localhost:8080/"
        },
        "id": "qTca8Ff14uVi",
        "outputId": "92e420cc-80c5-4c8b-d48d-df3ebc7ad5fe"
      },
      "execution_count": null,
      "outputs": [
        {
          "output_type": "stream",
          "name": "stderr",
          "text": [
            "100%|██████████| 5.68k/5.68k [00:00<00:00, 1.58MiB/s]"
          ]
        },
        {
          "output_type": "stream",
          "name": "stdout",
          "text": [
            "[2022/08/30 13:16:13] ppocr DEBUG: dt_boxes num : 0, elapse : 0.017305612564086914\n",
            "[2022/08/30 13:16:13] ppocr DEBUG: cls num  : 0, elapse : 0\n",
            "[2022/08/30 13:16:13] ppocr DEBUG: rec_res num  : 0, elapse : 3.337860107421875e-06\n",
            "[]\n"
          ]
        },
        {
          "output_type": "stream",
          "name": "stderr",
          "text": [
            "\n"
          ]
        }
      ]
    },
    {
      "cell_type": "code",
      "source": [
        "detect_allergen(df.image_ingredients_url[200])"
      ],
      "metadata": {
        "colab": {
          "base_uri": "https://localhost:8080/"
        },
        "id": "zGLhKlma09vC",
        "outputId": "6712c499-6a72-446d-9b72-bb3012f20ccd"
      },
      "execution_count": null,
      "outputs": [
        {
          "output_type": "stream",
          "name": "stderr",
          "text": [
            "100%|██████████| 30.3k/30.3k [00:00<00:00, 1.72MiB/s]"
          ]
        },
        {
          "output_type": "stream",
          "name": "stdout",
          "text": [
            "[2022/08/30 13:16:14] ppocr DEBUG: dt_boxes num : 17, elapse : 0.1301126480102539\n"
          ]
        },
        {
          "output_type": "stream",
          "name": "stderr",
          "text": [
            "\n"
          ]
        },
        {
          "output_type": "stream",
          "name": "stdout",
          "text": [
            "[2022/08/30 13:16:14] ppocr DEBUG: cls num  : 17, elapse : 0.15755200386047363\n",
            "[2022/08/30 13:16:16] ppocr DEBUG: rec_res num  : 17, elapse : 2.2917749881744385\n",
            "['baiesdegojilotabibica', 'consormmer', 'e', 'preference', 'ant', 'fin', 'a', 'grammes', 'de', 'preference', 'le', 'matinplaneteyaourou', 'dpides', 'g', 'glucides', 'gdont', 'sucre', 'gpoidsnet', 'francestcerife', 'sans', 'modification', 'genetique']\n"
          ]
        }
      ]
    },
    {
      "cell_type": "code",
      "source": [
        "detect_allergen(df.image_ingredients_url[20])"
      ],
      "metadata": {
        "colab": {
          "base_uri": "https://localhost:8080/"
        },
        "id": "cUgJFfS54z6Q",
        "outputId": "7acca1f9-d575-47bf-f76d-9fe5618bc3de"
      },
      "execution_count": null,
      "outputs": [
        {
          "output_type": "stream",
          "name": "stderr",
          "text": [
            "100%|██████████| 26.3k/26.3k [00:00<00:00, 3.50MiB/s]\n"
          ]
        },
        {
          "output_type": "stream",
          "name": "stdout",
          "text": [
            "[2022/08/30 13:16:56] ppocr DEBUG: dt_boxes num : 14, elapse : 0.18452119827270508\n",
            "[2022/08/30 13:16:57] ppocr DEBUG: cls num  : 14, elapse : 0.23568272590637207\n",
            "[2022/08/30 13:16:59] ppocr DEBUG: rec_res num  : 14, elapse : 2.402991771697998\n",
            "['nouvelle', 'recettedents', 'puus', 'blancheshaleinepurem', 'avec', 'edulcorants', 'parfum', 'menthgltcerodlorantsdioxydaricttsegperfetineednsa']\n"
          ]
        }
      ]
    },
    {
      "cell_type": "code",
      "source": [
        "detect_allergen(df.image_ingredients_url[1200])"
      ],
      "metadata": {
        "colab": {
          "base_uri": "https://localhost:8080/"
        },
        "id": "fnPcvJyM41Y-",
        "outputId": "497be153-d884-4a3c-8e98-fd17564903cf"
      },
      "execution_count": null,
      "outputs": [
        {
          "output_type": "stream",
          "name": "stderr",
          "text": [
            "100%|██████████| 5.91k/5.91k [00:00<00:00, 2.86MiB/s]"
          ]
        },
        {
          "output_type": "stream",
          "name": "stdout",
          "text": [
            "[2022/08/30 13:18:29] ppocr DEBUG: dt_boxes num : 1, elapse : 0.01664900779724121\n",
            "[2022/08/30 13:18:29] ppocr DEBUG: cls num  : 1, elapse : 0.013390779495239258\n",
            "[2022/08/30 13:18:29] ppocr DEBUG: rec_res num  : 1, elapse : 0.08738374710083008\n"
          ]
        },
        {
          "output_type": "stream",
          "name": "stderr",
          "text": [
            "\n"
          ]
        },
        {
          "output_type": "stream",
          "name": "stdout",
          "text": [
            "['chocolatno']\n"
          ]
        }
      ]
    },
    {
      "cell_type": "code",
      "source": [
        "detect_allergen(df.image_ingredients_url[30])"
      ],
      "metadata": {
        "colab": {
          "base_uri": "https://localhost:8080/"
        },
        "id": "sqavzk925s1r",
        "outputId": "3b05055c-b4ba-40c7-d644-b54e29ef0f2b"
      },
      "execution_count": null,
      "outputs": [
        {
          "output_type": "stream",
          "name": "stderr",
          "text": [
            "100%|██████████| 10.5k/10.5k [00:00<00:00, 2.97MiB/s]"
          ]
        },
        {
          "output_type": "stream",
          "name": "stdout",
          "text": [
            "[2022/08/30 13:19:03] ppocr DEBUG: dt_boxes num : 2, elapse : 0.02733469009399414\n",
            "[2022/08/30 13:19:03] ppocr DEBUG: cls num  : 2, elapse : 0.01934814453125\n"
          ]
        },
        {
          "output_type": "stream",
          "name": "stderr",
          "text": [
            "\n"
          ]
        },
        {
          "output_type": "stream",
          "name": "stdout",
          "text": [
            "[2022/08/30 13:19:03] ppocr DEBUG: rec_res num  : 2, elapse : 0.43738889694213867\n",
            "['pates', 'alimentaires', 'ingredients', 'semoule', 'de', 'ble', 'dur', 'eauconserver', 'dans', 'un', 'endroit', 'frais', 'et', 'sec']\n"
          ]
        }
      ]
    },
    {
      "cell_type": "code",
      "source": [
        "detect_allergen(df.image_ingredients_url[50])"
      ],
      "metadata": {
        "colab": {
          "base_uri": "https://localhost:8080/"
        },
        "id": "upBvTcnk5540",
        "outputId": "6e16d421-f9dd-4451-b17a-b8304f6971c8"
      },
      "execution_count": null,
      "outputs": [
        {
          "output_type": "stream",
          "name": "stderr",
          "text": [
            "100%|██████████| 7.03k/7.03k [00:00<00:00, 2.00MiB/s]"
          ]
        },
        {
          "output_type": "stream",
          "name": "stdout",
          "text": [
            "[2022/08/30 13:19:59] ppocr DEBUG: dt_boxes num : 0, elapse : 0.029948711395263672\n",
            "[2022/08/30 13:19:59] ppocr DEBUG: cls num  : 0, elapse : 0\n",
            "[2022/08/30 13:19:59] ppocr DEBUG: rec_res num  : 0, elapse : 3.0994415283203125e-06\n",
            "[]\n"
          ]
        },
        {
          "output_type": "stream",
          "name": "stderr",
          "text": [
            "\n"
          ]
        }
      ]
    },
    {
      "cell_type": "code",
      "source": [
        "detect_allergen(df.image_ingredients_url[40])"
      ],
      "metadata": {
        "colab": {
          "base_uri": "https://localhost:8080/"
        },
        "id": "7cU3tu7Z6J1C",
        "outputId": "ce6bb19d-4f5f-4a5e-8bb8-f42211f8a350"
      },
      "execution_count": null,
      "outputs": [
        {
          "output_type": "stream",
          "name": "stderr",
          "text": [
            "100%|██████████| 21.1k/21.1k [00:00<00:00, 1.58MiB/s]"
          ]
        },
        {
          "output_type": "stream",
          "name": "stdout",
          "text": [
            "[2022/08/30 13:20:10] ppocr DEBUG: dt_boxes num : 9, elapse : 0.1728811264038086\n"
          ]
        },
        {
          "output_type": "stream",
          "name": "stderr",
          "text": [
            "\n"
          ]
        },
        {
          "output_type": "stream",
          "name": "stdout",
          "text": [
            "[2022/08/30 13:20:11] ppocr DEBUG: cls num  : 9, elapse : 0.07375717163085938\n",
            "[2022/08/30 13:20:12] ppocr DEBUG: rec_res num  : 9, elapse : 1.1981556415557861\n",
            "['pastaalimenticia', 'de', 'calidad', 'superioringredientssemoulede', 'bledur', 'gluteningredlentsdurumwheat', 'semolina', 'gluteningredlentssemola', 'de', 'trigo', 'duro', 'gluten', 'npuede', 'contener', 'trazas', 'de', 'huevomay', 'contain', 'traces', 'of', 'egggeatencion', 'alconsumidor']\n",
            "May contain semolina\n",
            "May contain gluten\n"
          ]
        }
      ]
    },
    {
      "cell_type": "code",
      "source": [
        "detect_allergen(df.image_ingredients_url[45])"
      ],
      "metadata": {
        "colab": {
          "base_uri": "https://localhost:8080/"
        },
        "id": "Q8YFUb4U6Mb5",
        "outputId": "da5fd984-67d4-4ba3-941e-fb05863761da"
      },
      "execution_count": null,
      "outputs": [
        {
          "output_type": "stream",
          "name": "stderr",
          "text": [
            "100%|██████████| 28.9k/28.9k [00:00<00:00, 4.07MiB/s]"
          ]
        },
        {
          "output_type": "stream",
          "name": "stdout",
          "text": [
            "[2022/08/30 13:21:21] ppocr DEBUG: dt_boxes num : 9, elapse : 0.1370835304260254\n"
          ]
        },
        {
          "output_type": "stream",
          "name": "stderr",
          "text": [
            "\n"
          ]
        },
        {
          "output_type": "stream",
          "name": "stdout",
          "text": [
            "[2022/08/30 13:21:21] ppocr DEBUG: cls num  : 9, elapse : 0.07544517517089844\n",
            "[2022/08/30 13:21:23] ppocr DEBUG: rec_res num  : 9, elapse : 1.7384681701660156\n",
            "['ingredients', 'roasted', 'peanuts', 'whole', 'grain', 'rolledoats', 'sugar', 'chicory', 'root', 'extract', 'glucose', 'syrupwheat', 'flour', 'vegetable', 'fats', 'palm', 'shea', 'maltodextrincocoa', 'mass', 'almond', 'pieces', 'fructose', 'fat', 'reduce', 'ocoa', 'powder', 'rice', 'flour', 'sunflower', 'oil', 'lactose', 'milk', 'peanut', 'hutter', 'humectant', 'glycerolsalt', 'emulifierssunflower', 'and', 'soy', 'lecithindextrose', 'natural', 'flayouringswheat', 'germcocoa', 'butter', 'antioxidant', 'tocopherelricextract', 'honey']\n",
            "May contain flour\n",
            "May contain shea\n",
            "May contain almond\n",
            "May contain flour\n",
            "May contain lactose\n",
            "May contain milk\n",
            "May contain milk\n",
            "May contain peanut\n",
            "May contain soy\n",
            "May contain butter\n"
          ]
        }
      ]
    },
    {
      "cell_type": "code",
      "source": [],
      "metadata": {
        "id": "55gD7g8T_7GR"
      },
      "execution_count": null,
      "outputs": []
    }
  ],
  "metadata": {
    "colab": {
      "provenance": [],
      "collapsed_sections": []
    },
    "kernelspec": {
      "display_name": "Python 3",
      "name": "python3"
    },
    "language_info": {
      "name": "python"
    }
  },
  "nbformat": 4,
  "nbformat_minor": 0
}